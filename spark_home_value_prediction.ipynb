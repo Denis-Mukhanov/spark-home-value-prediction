{
 "cells": [
  {
   "cell_type": "markdown",
   "id": "b3423f84",
   "metadata": {},
   "source": [
    "# Предсказание стоимости жилья в Калифорнии"
   ]
  },
  {
   "cell_type": "markdown",
   "id": "8f63113e",
   "metadata": {
    "toc": true
   },
   "source": [
    "<h1>Содержание<span class=\"tocSkip\"></span></h1>\n",
    "<div class=\"toc\"><ul class=\"toc-item\"><li><span><a href=\"#Подготовка-данных\" data-toc-modified-id=\"Подготовка-данных-1\"><span class=\"toc-item-num\">1&nbsp;&nbsp;</span>Подготовка данных</a></span><ul class=\"toc-item\"><li><span><a href=\"#Загрузка-данных\" data-toc-modified-id=\"Загрузка-данных-1.1\"><span class=\"toc-item-num\">1.1&nbsp;&nbsp;</span>Загрузка данных</a></span></li><li><span><a href=\"#Пропуски-в-данных\" data-toc-modified-id=\"Пропуски-в-данных-1.2\"><span class=\"toc-item-num\">1.2&nbsp;&nbsp;</span>Пропуски в данных</a></span><ul class=\"toc-item\"><li><span><a href=\"#Обработка-пропусков\" data-toc-modified-id=\"Обработка-пропусков-1.2.1\"><span class=\"toc-item-num\">1.2.1&nbsp;&nbsp;</span>Обработка пропусков</a></span></li></ul></li><li><span><a href=\"#Кореляция-с-целевым-признаком\" data-toc-modified-id=\"Кореляция-с-целевым-признаком-1.3\"><span class=\"toc-item-num\">1.3&nbsp;&nbsp;</span>Кореляция с целевым признаком</a></span></li></ul></li><li><span><a href=\"#Подготовка-признаков\" data-toc-modified-id=\"Подготовка-признаков-2\"><span class=\"toc-item-num\">2&nbsp;&nbsp;</span>Подготовка признаков</a></span><ul class=\"toc-item\"><li><span><a href=\"#Разделение-на-выборки\" data-toc-modified-id=\"Разделение-на-выборки-2.1\"><span class=\"toc-item-num\">2.1&nbsp;&nbsp;</span>Разделение на выборки</a></span></li><li><span><a href=\"#Pipeline-для-подготовки-признаков\" data-toc-modified-id=\"Pipeline-для-подготовки-признаков-2.2\"><span class=\"toc-item-num\">2.2&nbsp;&nbsp;</span>Pipeline для подготовки признаков</a></span></li></ul></li><li><span><a href=\"#Модели\" data-toc-modified-id=\"Модели-3\"><span class=\"toc-item-num\">3&nbsp;&nbsp;</span>Модели</a></span><ul class=\"toc-item\"><li><span><a href=\"#Обучение-LinearRegression-на-всех-данных\" data-toc-modified-id=\"Обучение-LinearRegression-на-всех-данных-3.1\"><span class=\"toc-item-num\">3.1&nbsp;&nbsp;</span>Обучение LinearRegression на всех данных</a></span></li><li><span><a href=\"#Обучение-LinearRegression-на-числовых-данных\" data-toc-modified-id=\"Обучение-LinearRegression-на-числовых-данных-3.2\"><span class=\"toc-item-num\">3.2&nbsp;&nbsp;</span>Обучение LinearRegression на числовых данных</a></span></li><li><span><a href=\"#Метрики-качества-моделей\" data-toc-modified-id=\"Метрики-качества-моделей-3.3\"><span class=\"toc-item-num\">3.3&nbsp;&nbsp;</span>Метрики качества моделей</a></span><ul class=\"toc-item\"><li><span><a href=\"#Сравнение-метрик-качества-моделей\" data-toc-modified-id=\"Сравнение-метрик-качества-моделей-3.3.1\"><span class=\"toc-item-num\">3.3.1&nbsp;&nbsp;</span>Сравнение метрик качества моделей</a></span></li></ul></li></ul></li><li><span><a href=\"#Вывод\" data-toc-modified-id=\"Вывод-4\"><span class=\"toc-item-num\">4&nbsp;&nbsp;</span>Вывод</a></span></li></ul></div>"
   ]
  },
  {
   "cell_type": "markdown",
   "id": "24d8b761",
   "metadata": {},
   "source": [
    "<div style=\"padding: 30px 25px; border: 2px #6495ed solid\">\n",
    "\n",
    "__Цель:__ Используя оценщик LinearRegression из библиотеки MLlib реализовать две модели, построенные на различных наборах данных:\n",
    "- Используя числовые и категориальные данные;\n",
    "- Используя только числовые данные, исключив категориальные.\n",
    "\n",
    "__Оценка результата:__ Сравнение качества работы моделей, по метрикам:\n",
    "- RMSE;\n",
    "- MAE;\n",
    "- R2.\n",
    "    \n",
    "\n",
    "    \n",
    "<br>__Данные:__ Информация о жилье в Калифорнии в 1990 году.</font>\n",
    "<details>\n",
    "<summary><u>Описание данных</u></summary>\n",
    "\n",
    "\n",
    "__В колонках датасета содержатся следующие данные:__\n",
    "\n",
    "- longitude — широта;\n",
    "- latitude — долгота;\n",
    "- housing_median_age — медианный возраст жителей жилого массива;\n",
    "- total_rooms — общее количество комнат в домах жилого массива;\n",
    "- total_bedrooms — общее количество спален в домах жилого массива;\n",
    "- population — количество человек, которые проживают в жилом массиве;\n",
    "- households — количество домовладений в жилом массиве;\n",
    "- median_income — медианный доход жителей жилого массива;\n",
    "- median_house_value — медианная стоимость дома в жилом массиве;\n",
    "- ocean_proximity — близость к океану.\n",
    "\n",
    "---    \n",
    "\n",
    "__Целевой признак: median_house_value__\n",
    "</details>    \n",
    "</br>\n",
    "</div>    "
   ]
  },
  {
   "cell_type": "code",
   "execution_count": 3,
   "id": "77bba46c",
   "metadata": {},
   "outputs": [],
   "source": [
    "# библиотеки используемые в проекте\n",
    "import pandas as pd \n",
    "import numpy as np\n",
    "\n",
    "import pyspark\n",
    "from pyspark.sql import SparkSession\n",
    "from pyspark.sql.types import *\n",
    "import pyspark.sql.functions as F\n",
    "\n",
    "from pyspark.ml import Pipeline\n",
    "from pyspark.ml.feature import StringIndexer, VectorAssembler, StandardScaler, OneHotEncoder\n",
    "from pyspark.ml.regression import LinearRegression\n",
    "from pyspark.ml.tuning import ParamGridBuilder, CrossValidator\n",
    "from pyspark.ml.evaluation import RegressionEvaluator\n",
    " \n",
    "from pyspark.sql.functions import isnan, isnull, count, col, sum, when\n",
    "\n",
    "# константы\n",
    "RANDOM_SEED = 42"
   ]
  },
  {
   "cell_type": "code",
   "execution_count": 4,
   "id": "47979f3e",
   "metadata": {},
   "outputs": [],
   "source": [
    "# запуск spark-сессии\n",
    "spark = SparkSession.builder \\\n",
    "                    .master('local') \\\n",
    "                    .appName('spark_home_value_prediction') \\\n",
    "                    .getOrCreate()"
   ]
  },
  {
   "cell_type": "markdown",
   "id": "53871372",
   "metadata": {
    "id": "53871372"
   },
   "source": [
    "## Подготовка данных\n",
    "### Загрузка данных"
   ]
  },
  {
   "cell_type": "code",
   "execution_count": 5,
   "id": "df92e3ec",
   "metadata": {
    "id": "df92e3ec"
   },
   "outputs": [
    {
     "name": "stderr",
     "output_type": "stream",
     "text": [
      "                                                                                \r"
     ]
    }
   ],
   "source": [
    "# загрузка данных из файла 'housing.csv'\n",
    "df = spark.read.csv('housing.csv', header=True, inferSchema=True)"
   ]
  },
  {
   "cell_type": "code",
   "execution_count": 7,
   "id": "33f50986",
   "metadata": {},
   "outputs": [
    {
     "data": {
      "text/plain": [
       "'Количество строк в DataFrame: 20640'"
      ]
     },
     "metadata": {},
     "output_type": "display_data"
    }
   ],
   "source": [
    "# Подсчет количества строк в DataFrame\n",
    "row_count = df.count()\n",
    "\n",
    "display(f'Количество строк в DataFrame: {row_count}')"
   ]
  },
  {
   "cell_type": "code",
   "execution_count": 8,
   "id": "1cf290ac",
   "metadata": {},
   "outputs": [
    {
     "name": "stdout",
     "output_type": "stream",
     "text": [
      "root\n",
      " |-- longitude: double (nullable = true)\n",
      " |-- latitude: double (nullable = true)\n",
      " |-- housing_median_age: double (nullable = true)\n",
      " |-- total_rooms: double (nullable = true)\n",
      " |-- total_bedrooms: double (nullable = true)\n",
      " |-- population: double (nullable = true)\n",
      " |-- households: double (nullable = true)\n",
      " |-- median_income: double (nullable = true)\n",
      " |-- median_house_value: double (nullable = true)\n",
      " |-- ocean_proximity: string (nullable = true)\n",
      "\n"
     ]
    }
   ],
   "source": [
    "# вывод типов данных колонок DataFrame\n",
    "df.printSchema()"
   ]
  },
  {
   "cell_type": "code",
   "execution_count": 10,
   "id": "dcf009f8",
   "metadata": {},
   "outputs": [
    {
     "name": "stdout",
     "output_type": "stream",
     "text": [
      "+---------+--------+------------------+-----------+--------------+----------+----------+-------------+------------------+---------------+\n",
      "|longitude|latitude|housing_median_age|total_rooms|total_bedrooms|population|households|median_income|median_house_value|ocean_proximity|\n",
      "+---------+--------+------------------+-----------+--------------+----------+----------+-------------+------------------+---------------+\n",
      "|  -122.23|   37.88|              41.0|      880.0|         129.0|     322.0|     126.0|       8.3252|          452600.0|       NEAR BAY|\n",
      "|  -122.22|   37.86|              21.0|     7099.0|        1106.0|    2401.0|    1138.0|       8.3014|          358500.0|       NEAR BAY|\n",
      "+---------+--------+------------------+-----------+--------------+----------+----------+-------------+------------------+---------------+\n",
      "only showing top 2 rows\n",
      "\n"
     ]
    }
   ],
   "source": [
    "# вывод строк DataFrame\n",
    "df.show(2)"
   ]
  },
  {
   "cell_type": "code",
   "execution_count": 11,
   "id": "cd1d7cd9",
   "metadata": {},
   "outputs": [
    {
     "name": "stderr",
     "output_type": "stream",
     "text": [
      "                                                                                \r"
     ]
    },
    {
     "data": {
      "text/html": [
       "<div>\n",
       "<style scoped>\n",
       "    .dataframe tbody tr th:only-of-type {\n",
       "        vertical-align: middle;\n",
       "    }\n",
       "\n",
       "    .dataframe tbody tr th {\n",
       "        vertical-align: top;\n",
       "    }\n",
       "\n",
       "    .dataframe thead th {\n",
       "        text-align: right;\n",
       "    }\n",
       "</style>\n",
       "<table border=\"1\" class=\"dataframe\">\n",
       "  <thead>\n",
       "    <tr style=\"text-align: right;\">\n",
       "      <th></th>\n",
       "      <th>0</th>\n",
       "      <th>1</th>\n",
       "      <th>2</th>\n",
       "      <th>3</th>\n",
       "      <th>4</th>\n",
       "    </tr>\n",
       "  </thead>\n",
       "  <tbody>\n",
       "    <tr>\n",
       "      <th>summary</th>\n",
       "      <td>count</td>\n",
       "      <td>mean</td>\n",
       "      <td>stddev</td>\n",
       "      <td>min</td>\n",
       "      <td>max</td>\n",
       "    </tr>\n",
       "    <tr>\n",
       "      <th>longitude</th>\n",
       "      <td>20640</td>\n",
       "      <td>-119.56970445736148</td>\n",
       "      <td>2.003531723502584</td>\n",
       "      <td>-124.35</td>\n",
       "      <td>-114.31</td>\n",
       "    </tr>\n",
       "    <tr>\n",
       "      <th>latitude</th>\n",
       "      <td>20640</td>\n",
       "      <td>35.6318614341087</td>\n",
       "      <td>2.135952397457101</td>\n",
       "      <td>32.54</td>\n",
       "      <td>41.95</td>\n",
       "    </tr>\n",
       "    <tr>\n",
       "      <th>housing_median_age</th>\n",
       "      <td>20640</td>\n",
       "      <td>28.639486434108527</td>\n",
       "      <td>12.58555761211163</td>\n",
       "      <td>1.0</td>\n",
       "      <td>52.0</td>\n",
       "    </tr>\n",
       "    <tr>\n",
       "      <th>total_rooms</th>\n",
       "      <td>20640</td>\n",
       "      <td>2635.7630813953488</td>\n",
       "      <td>2181.6152515827944</td>\n",
       "      <td>2.0</td>\n",
       "      <td>39320.0</td>\n",
       "    </tr>\n",
       "    <tr>\n",
       "      <th>total_bedrooms</th>\n",
       "      <td>20433</td>\n",
       "      <td>537.8705525375618</td>\n",
       "      <td>421.38507007403115</td>\n",
       "      <td>1.0</td>\n",
       "      <td>6445.0</td>\n",
       "    </tr>\n",
       "    <tr>\n",
       "      <th>population</th>\n",
       "      <td>20640</td>\n",
       "      <td>1425.4767441860465</td>\n",
       "      <td>1132.46212176534</td>\n",
       "      <td>3.0</td>\n",
       "      <td>35682.0</td>\n",
       "    </tr>\n",
       "    <tr>\n",
       "      <th>households</th>\n",
       "      <td>20640</td>\n",
       "      <td>499.5396802325581</td>\n",
       "      <td>382.3297528316098</td>\n",
       "      <td>1.0</td>\n",
       "      <td>6082.0</td>\n",
       "    </tr>\n",
       "    <tr>\n",
       "      <th>median_income</th>\n",
       "      <td>20640</td>\n",
       "      <td>3.8706710029070246</td>\n",
       "      <td>1.899821717945263</td>\n",
       "      <td>0.4999</td>\n",
       "      <td>15.0001</td>\n",
       "    </tr>\n",
       "    <tr>\n",
       "      <th>median_house_value</th>\n",
       "      <td>20640</td>\n",
       "      <td>206855.81690891474</td>\n",
       "      <td>115395.61587441359</td>\n",
       "      <td>14999.0</td>\n",
       "      <td>500001.0</td>\n",
       "    </tr>\n",
       "    <tr>\n",
       "      <th>ocean_proximity</th>\n",
       "      <td>20640</td>\n",
       "      <td>None</td>\n",
       "      <td>None</td>\n",
       "      <td>&lt;1H OCEAN</td>\n",
       "      <td>NEAR OCEAN</td>\n",
       "    </tr>\n",
       "  </tbody>\n",
       "</table>\n",
       "</div>"
      ],
      "text/plain": [
       "                        0                    1                   2          3  \\\n",
       "summary             count                 mean              stddev        min   \n",
       "longitude           20640  -119.56970445736148   2.003531723502584    -124.35   \n",
       "latitude            20640     35.6318614341087   2.135952397457101      32.54   \n",
       "housing_median_age  20640   28.639486434108527   12.58555761211163        1.0   \n",
       "total_rooms         20640   2635.7630813953488  2181.6152515827944        2.0   \n",
       "total_bedrooms      20433    537.8705525375618  421.38507007403115        1.0   \n",
       "population          20640   1425.4767441860465    1132.46212176534        3.0   \n",
       "households          20640    499.5396802325581   382.3297528316098        1.0   \n",
       "median_income       20640   3.8706710029070246   1.899821717945263     0.4999   \n",
       "median_house_value  20640   206855.81690891474  115395.61587441359    14999.0   \n",
       "ocean_proximity     20640                 None                None  <1H OCEAN   \n",
       "\n",
       "                             4  \n",
       "summary                    max  \n",
       "longitude              -114.31  \n",
       "latitude                 41.95  \n",
       "housing_median_age        52.0  \n",
       "total_rooms            39320.0  \n",
       "total_bedrooms          6445.0  \n",
       "population             35682.0  \n",
       "households              6082.0  \n",
       "median_income          15.0001  \n",
       "median_house_value    500001.0  \n",
       "ocean_proximity     NEAR OCEAN  "
      ]
     },
     "execution_count": 11,
     "metadata": {},
     "output_type": "execute_result"
    }
   ],
   "source": [
    "# общая статистика по столбцам\n",
    "df.describe().toPandas().transpose()"
   ]
  },
  {
   "cell_type": "code",
   "execution_count": 12,
   "id": "773f6a3d",
   "metadata": {},
   "outputs": [],
   "source": [
    "# преобразование в цельночисленный формат столбцы 'total_rooms', 'total_bedrooms', 'population', 'households'\n",
    "columns_to_convert = ['total_rooms', 'total_bedrooms', 'population', 'households']\n",
    "\n",
    "for column in columns_to_convert:\n",
    "    df = df.withColumn(column, F.col(column).cast('int'))"
   ]
  },
  {
   "cell_type": "code",
   "execution_count": 12,
   "id": "3f76c7ea",
   "metadata": {},
   "outputs": [],
   "source": [
    "# выделим числовые, текстовые и целевой признак\n",
    "categorical_cols = ['ocean_proximity']\n",
    "numerical_cols  = ['median_income', 'households', 'population', 'total_bedrooms', 'total_rooms',\n",
    "                  'housing_median_age', 'longitude', 'latitude']\n",
    "target = 'median_house_value' "
   ]
  },
  {
   "cell_type": "markdown",
   "id": "42a5560c",
   "metadata": {},
   "source": [
    "### Пропуски в данных"
   ]
  },
  {
   "cell_type": "code",
   "execution_count": 14,
   "id": "d14fa759",
   "metadata": {},
   "outputs": [
    {
     "data": {
      "text/plain": [
       "'longitude: 0'"
      ]
     },
     "metadata": {},
     "output_type": "display_data"
    },
    {
     "data": {
      "text/plain": [
       "'latitude: 0'"
      ]
     },
     "metadata": {},
     "output_type": "display_data"
    },
    {
     "data": {
      "text/plain": [
       "'housing_median_age: 0'"
      ]
     },
     "metadata": {},
     "output_type": "display_data"
    },
    {
     "data": {
      "text/plain": [
       "'total_rooms: 0'"
      ]
     },
     "metadata": {},
     "output_type": "display_data"
    },
    {
     "data": {
      "text/plain": [
       "'total_bedrooms: 207'"
      ]
     },
     "metadata": {},
     "output_type": "display_data"
    },
    {
     "data": {
      "text/plain": [
       "'population: 0'"
      ]
     },
     "metadata": {},
     "output_type": "display_data"
    },
    {
     "data": {
      "text/plain": [
       "'households: 0'"
      ]
     },
     "metadata": {},
     "output_type": "display_data"
    },
    {
     "data": {
      "text/plain": [
       "'median_income: 0'"
      ]
     },
     "metadata": {},
     "output_type": "display_data"
    },
    {
     "data": {
      "text/plain": [
       "'median_house_value: 0'"
      ]
     },
     "metadata": {},
     "output_type": "display_data"
    },
    {
     "data": {
      "text/plain": [
       "'ocean_proximity: 0'"
      ]
     },
     "metadata": {},
     "output_type": "display_data"
    }
   ],
   "source": [
    "# выведим количество пропусков в столбцах\n",
    "null = [(column,df.filter(F.col(column).isNull()).count()) for column in df.columns]\n",
    "for column, count in null:\n",
    "    display(f'{column}: {count}')"
   ]
  },
  {
   "cell_type": "markdown",
   "id": "4f56de27",
   "metadata": {},
   "source": [
    "<div style=\"padding: 30px 25px; border: 2px #6495ed solid\">\n",
    "Пропуски присутствуют в столбце 'total bedrooms' - общее количество спален в домах жилого массива;\n",
    "</div>"
   ]
  },
  {
   "cell_type": "markdown",
   "id": "a092c846",
   "metadata": {},
   "source": [
    "#### Обработка пропусков"
   ]
  },
  {
   "cell_type": "code",
   "execution_count": 15,
   "id": "ec9e1e02",
   "metadata": {},
   "outputs": [
    {
     "name": "stdout",
     "output_type": "stream",
     "text": [
      "Correlation to total_bedrooms for median_income=-0.0072945417081858544\n",
      "Correlation to total_bedrooms for households=0.966507240042043\n",
      "Correlation to total_bedrooms for population=0.8662661985860806\n",
      "Correlation to total_bedrooms for total_bedrooms=1.0\n",
      "Correlation to total_bedrooms for total_rooms=0.9201961721166215\n",
      "Correlation to total_bedrooms for housing_median_age=-0.31706334936263136\n",
      "Correlation to total_bedrooms for longitude=0.06808179725677305\n",
      "Correlation to total_bedrooms for latitude=-0.06531831669569808\n"
     ]
    }
   ],
   "source": [
    "# корреляция с total bedrooms остальных признаков\n",
    "for i in numerical_cols:\n",
    "    print(f\"Correlation to total_bedrooms for {i}={df.stat.corr('total_bedrooms', i)}\")"
   ]
  },
  {
   "cell_type": "markdown",
   "id": "8dbdcbce",
   "metadata": {},
   "source": [
    "<div style=\"padding: 30px 25px; border: 2px #6495ed solid\">\n",
    "Наибольшей линейной связью 'total bedrooms' обладает с households - количество домовладений в жилом массиве.\n",
    "    </div>"
   ]
  },
  {
   "cell_type": "code",
   "execution_count": 16,
   "id": "eb5c30ac",
   "metadata": {},
   "outputs": [],
   "source": [
    "# расчет количества спален на домовладение\n",
    "df = df.withColumn('bedrooms_per_household', F.col('total_bedrooms')/F.col('households'))"
   ]
  },
  {
   "cell_type": "code",
   "execution_count": 17,
   "id": "b2ec6dc1",
   "metadata": {},
   "outputs": [
    {
     "data": {
      "text/plain": [
       "1"
      ]
     },
     "execution_count": 17,
     "metadata": {},
     "output_type": "execute_result"
    }
   ],
   "source": [
    "# среднее количество спален на дом\n",
    "mean_value = round(df.select(F.mean('bedrooms_per_household')).first()[0])\n",
    "mean_value"
   ]
  },
  {
   "cell_type": "markdown",
   "id": "3280a76d",
   "metadata": {},
   "source": [
    "<div style=\"padding: 30px 25px; border: 2px #6495ed solid\">\n",
    "так как средне значение спален на домовладение равно 1, соответственно количество спален будет равно количеству домовладений в жилом массиве.\n",
    "    </div>"
   ]
  },
  {
   "cell_type": "code",
   "execution_count": 18,
   "id": "b194173a",
   "metadata": {},
   "outputs": [],
   "source": [
    "# заполнение пропусков в столбце total_bedrooms значениями из households\n",
    "df = df.withColumn(\"total_bedrooms\", when(df[\"total_bedrooms\"].isNull(), df['households']).otherwise(df[\"total_bedrooms\"]))"
   ]
  },
  {
   "cell_type": "code",
   "execution_count": 19,
   "id": "4e850206",
   "metadata": {},
   "outputs": [],
   "source": [
    "# удаление вспомогательного столбца 'bedrooms_per_household'\n",
    "df = df.drop(F.col('bedrooms_per_household'))"
   ]
  },
  {
   "cell_type": "code",
   "execution_count": 20,
   "id": "ffe456dd",
   "metadata": {},
   "outputs": [
    {
     "data": {
      "text/plain": [
       "'longitude: 0'"
      ]
     },
     "metadata": {},
     "output_type": "display_data"
    },
    {
     "data": {
      "text/plain": [
       "'latitude: 0'"
      ]
     },
     "metadata": {},
     "output_type": "display_data"
    },
    {
     "data": {
      "text/plain": [
       "'housing_median_age: 0'"
      ]
     },
     "metadata": {},
     "output_type": "display_data"
    },
    {
     "data": {
      "text/plain": [
       "'total_rooms: 0'"
      ]
     },
     "metadata": {},
     "output_type": "display_data"
    },
    {
     "data": {
      "text/plain": [
       "'total_bedrooms: 0'"
      ]
     },
     "metadata": {},
     "output_type": "display_data"
    },
    {
     "data": {
      "text/plain": [
       "'population: 0'"
      ]
     },
     "metadata": {},
     "output_type": "display_data"
    },
    {
     "data": {
      "text/plain": [
       "'households: 0'"
      ]
     },
     "metadata": {},
     "output_type": "display_data"
    },
    {
     "data": {
      "text/plain": [
       "'median_income: 0'"
      ]
     },
     "metadata": {},
     "output_type": "display_data"
    },
    {
     "data": {
      "text/plain": [
       "'median_house_value: 0'"
      ]
     },
     "metadata": {},
     "output_type": "display_data"
    },
    {
     "data": {
      "text/plain": [
       "'ocean_proximity: 0'"
      ]
     },
     "metadata": {},
     "output_type": "display_data"
    }
   ],
   "source": [
    "# выведим количество пропусков в столбцах\n",
    "null = [(column,df.filter(F.col(column).isNull()).count()) for column in df.columns]\n",
    "for column, count in null:\n",
    "    display(f'{column}: {count}')"
   ]
  },
  {
   "cell_type": "markdown",
   "id": "abe75237",
   "metadata": {},
   "source": [
    "<div style=\"padding: 30px 25px; border: 2px #6495ed solid\">\n",
    "Пропуски заполнили\n",
    "    </div>"
   ]
  },
  {
   "cell_type": "markdown",
   "id": "1ba9f9c7",
   "metadata": {},
   "source": [
    "### Кореляция с целевым признаком"
   ]
  },
  {
   "cell_type": "code",
   "execution_count": 21,
   "id": "a82d0cef",
   "metadata": {},
   "outputs": [
    {
     "name": "stdout",
     "output_type": "stream",
     "text": [
      "Correlation to median_house_value for median_income=0.6880752079585578\n",
      "Correlation to median_house_value for households=0.06584265057005637\n",
      "Correlation to median_house_value for population=-0.024649678888894876\n",
      "Correlation to median_house_value for total_bedrooms=0.050688452962582564\n",
      "Correlation to median_house_value for total_rooms=0.13415311380656275\n",
      "Correlation to median_house_value for housing_median_age=0.10562341249321067\n",
      "Correlation to median_house_value for longitude=-0.045966615117981745\n",
      "Correlation to median_house_value for latitude=-0.14416027687465752\n"
     ]
    }
   ],
   "source": [
    "# корреляция с total bedrooms остальных признаков\n",
    "for i in numerical_cols:\n",
    "    print(f\"Correlation to {target} for {i}={df.stat.corr(target, i)}\")"
   ]
  },
  {
   "cell_type": "markdown",
   "id": "742456da",
   "metadata": {},
   "source": [
    "<div style=\"padding: 30px 25px; border: 2px #6495ed solid\">\n",
    "Наиболишая линейная зависимость стоимости жилья наблюдается с 'median income' - медианный доход жителей жилого массива\n",
    "    </div>"
   ]
  },
  {
   "cell_type": "markdown",
   "id": "f8ec1f37",
   "metadata": {},
   "source": [
    "## Подготовка признаков"
   ]
  },
  {
   "cell_type": "code",
   "execution_count": 21,
   "id": "70669c6a",
   "metadata": {},
   "outputs": [],
   "source": [
    "# переименуем целевой признак в 'label' \n",
    "df = df.withColumnRenamed(target, 'label')"
   ]
  },
  {
   "cell_type": "markdown",
   "id": "453fcd5a",
   "metadata": {},
   "source": [
    "### Разделение на выборки\n",
    "Разделим датасет в следующих пропорциях:\n",
    "- train_data 80%\n",
    "- test_data 20%"
   ]
  },
  {
   "cell_type": "code",
   "execution_count": 40,
   "id": "b61ab518",
   "metadata": {},
   "outputs": [
    {
     "data": {
      "text/plain": [
       "'80%, 20%'"
      ]
     },
     "metadata": {},
     "output_type": "display_data"
    }
   ],
   "source": [
    "train_data, test_data = df.randomSplit([.8,.2], seed=RANDOM_SEED)\n",
    "\n",
    "display(f'{train_data.count()/df.count():.0%}, {test_data.count()/df.count():.0%}') "
   ]
  },
  {
   "cell_type": "markdown",
   "id": "86fa7e6d",
   "metadata": {},
   "source": [
    "### Pipeline для подготовки признаков"
   ]
  },
  {
   "cell_type": "code",
   "execution_count": 41,
   "id": "51cefd54",
   "metadata": {},
   "outputs": [],
   "source": [
    "# Pipeline для категориальных и числовых признаков\n",
    "stages = []\n",
    "# трансформируем категориальные признаки\n",
    "# трансформер StringIndexer\n",
    "indexer = StringIndexer(inputCols=categorical_cols, \n",
    "                        outputCols=[c+'_idx' for c in categorical_cols],\n",
    "                        handleInvalid = 'keep')\n",
    "stages += [indexer]\n",
    "# OHE-кодирование\n",
    "encoder = OneHotEncoder(inputCols=[c+'_idx' for c in categorical_cols],\n",
    "                        outputCols=[c+'_ohe' for c in categorical_cols])\n",
    "stages += [encoder]\n",
    "# объединение категориальных признаков в один вектор\n",
    "categorical_assembler = \\\n",
    "        VectorAssembler(inputCols=[c+'_ohe' for c in categorical_cols],\n",
    "                        outputCol=\"categorical_features\")\n",
    "stages += [categorical_assembler]\n",
    "\n",
    "# трансформируем числовые признаки\n",
    "# шкалирование значений \n",
    "numerical_assembler = VectorAssembler(inputCols=numerical_cols,\n",
    "                                      outputCol=\"numerical_features\")\n",
    "stages += [numerical_assembler]\n",
    "#StandardScaler\n",
    "standardScaler = StandardScaler(inputCol='numerical_features',\n",
    "                                outputCol=\"numerical_features_scaled\")\n",
    "stages += [standardScaler]\n",
    "# объединение признаков в один вектор\n",
    "all_features = ['categorical_features','numerical_features_scaled']\n",
    "final_assembler = VectorAssembler(inputCols=all_features, \n",
    "                                  outputCol='features')\n",
    "stages += [final_assembler]\n",
    "# модель\n",
    "lr = LinearRegression(labelCol='label', featuresCol='features')\n",
    "stages += [lr]\n",
    "# задаем план stages для обучения модели \n",
    "pipeline = Pipeline(stages=stages)"
   ]
  },
  {
   "cell_type": "code",
   "execution_count": 42,
   "id": "29cc60fb",
   "metadata": {},
   "outputs": [],
   "source": [
    "# Pipeline для числовых признаков\n",
    "stages_num = []\n",
    "# трансформируем числовые признаки\n",
    "# шкалирование значений \n",
    "numerical_assembler = VectorAssembler(inputCols=numerical_cols,\n",
    "                                      outputCol='numerical_features')\n",
    "stages_num += [numerical_assembler]\n",
    "#StandardScaler\n",
    "standardScaler = StandardScaler(inputCol='numerical_features',\n",
    "                                outputCol='numerical_features_scaled')\n",
    "stages_num += [standardScaler]\n",
    "\n",
    "# модель\n",
    "lr_num = LinearRegression(labelCol='label', featuresCol='numerical_features_scaled')\n",
    "stages_num += [lr_num]\n",
    "# задаем план stages_num для обучения модели \n",
    "pipeline_num = Pipeline(stages=stages_num)"
   ]
  },
  {
   "cell_type": "markdown",
   "id": "7a88f988",
   "metadata": {},
   "source": [
    "## Модели\n",
    "\n",
    "При построении моделей используем подбор по сетке гиперпараметров с кросс-валидацией"
   ]
  },
  {
   "cell_type": "code",
   "execution_count": 43,
   "id": "f9b96057",
   "metadata": {},
   "outputs": [],
   "source": [
    "# сетка гиперпараметров\n",
    "paramGrid = ParamGridBuilder() \\\n",
    "    .addGrid(lr.regParam, [0.0, 0.01, 0.1]) \\\n",
    "    .addGrid(lr.elasticNetParam, [0.5, 1.0]) \\\n",
    "    .build()\n",
    "\n",
    "# кросс-валидатор для всего набора признаков\n",
    "cv = CrossValidator(estimator=pipeline,\n",
    "                    estimatorParamMaps=paramGrid,\n",
    "                    evaluator=RegressionEvaluator(metricName='rmse'),\n",
    "                    numFolds=4)\n",
    "# кросс-валидатор для числовых признаков\n",
    "cv_num = CrossValidator(estimator=pipeline_num,\n",
    "                    estimatorParamMaps=paramGrid,\n",
    "                    evaluator=RegressionEvaluator(metricName='rmse'),\n",
    "                    numFolds=4)\n"
   ]
  },
  {
   "cell_type": "markdown",
   "id": "cc7bd66e",
   "metadata": {},
   "source": [
    "### Обучение LinearRegression на всех данных"
   ]
  },
  {
   "cell_type": "code",
   "execution_count": null,
   "id": "3ca8cc05",
   "metadata": {},
   "outputs": [],
   "source": [
    "# обучаем модель\n",
    "cv_model_all = cv.fit(train_data)"
   ]
  },
  {
   "cell_type": "code",
   "execution_count": 45,
   "id": "b7199e34",
   "metadata": {},
   "outputs": [
    {
     "name": "stdout",
     "output_type": "stream",
     "text": [
      "+--------+------------------+\n",
      "|   label|        prediction|\n",
      "+--------+------------------+\n",
      "|103600.0|150354.36048713746|\n",
      "|106700.0|216870.72990827635|\n",
      "| 73200.0|125983.70578138065|\n",
      "+--------+------------------+\n",
      "only showing top 3 rows\n",
      "\n"
     ]
    }
   ],
   "source": [
    "# создаем предикт\n",
    "predictions_all = cv_model_all.transform(test_data)\n",
    "predictedLabes_all = predictions_all.select('label', 'prediction')\n",
    "predictedLabes_all.show(3) "
   ]
  },
  {
   "cell_type": "markdown",
   "id": "7de259c9",
   "metadata": {},
   "source": [
    "### Обучение LinearRegression на числовых данных"
   ]
  },
  {
   "cell_type": "code",
   "execution_count": null,
   "id": "598dccc7",
   "metadata": {},
   "outputs": [],
   "source": [
    "# обучаем модель\n",
    "cv_model_num = cv_num.fit(train_data)"
   ]
  },
  {
   "cell_type": "code",
   "execution_count": 47,
   "id": "ed18332e",
   "metadata": {},
   "outputs": [
    {
     "name": "stdout",
     "output_type": "stream",
     "text": [
      "+--------+------------------+\n",
      "|   label|        prediction|\n",
      "+--------+------------------+\n",
      "|103600.0|101389.51858995808|\n",
      "|106700.0|190033.05866057798|\n",
      "| 73200.0| 76417.54363664845|\n",
      "+--------+------------------+\n",
      "only showing top 3 rows\n",
      "\n"
     ]
    }
   ],
   "source": [
    "# создаем предикт\n",
    "predictions_num = cv_model_num.transform(test_data)\n",
    "predictedLabes_num = predictions_num.select('label', 'prediction')\n",
    "predictedLabes_num.show(3) "
   ]
  },
  {
   "cell_type": "markdown",
   "id": "757fd103",
   "metadata": {
    "id": "757fd103"
   },
   "source": [
    "### Метрики качества моделей\n",
    "\n",
    "Сравним результаты работы линейной регрессии на двух наборах данных по метрикам RMSE, MAE и R2"
   ]
  },
  {
   "cell_type": "code",
   "execution_count": 48,
   "id": "43ca3b5a",
   "metadata": {},
   "outputs": [],
   "source": [
    "# рассчет RMSE\n",
    "evaluator_rmse = RegressionEvaluator(predictionCol=\"prediction\", labelCol='label', metricName=\"rmse\")\n",
    "\n",
    "rmse_all = evaluator_rmse.evaluate(predictedLabes_all)\n",
    "rmse_num = evaluator_rmse.evaluate(predictedLabes_num)"
   ]
  },
  {
   "cell_type": "code",
   "execution_count": 49,
   "id": "257a7997",
   "metadata": {},
   "outputs": [],
   "source": [
    "# рассчет MAE\n",
    "evaluator_mae = RegressionEvaluator(predictionCol=\"prediction\", labelCol='label', metricName=\"mae\")\n",
    "\n",
    "mae_all = evaluator_mae.evaluate(predictedLabes_all)\n",
    "mae_num = evaluator_mae.evaluate(predictedLabes_num)"
   ]
  },
  {
   "cell_type": "code",
   "execution_count": 50,
   "id": "954f64a7",
   "metadata": {},
   "outputs": [],
   "source": [
    "# рассчет R2\n",
    "evaluator_r2 = RegressionEvaluator(predictionCol=\"prediction\", labelCol='label', metricName=\"r2\")\n",
    "\n",
    "r2_all = evaluator_r2.evaluate(predictedLabes_all)\n",
    "r2_num = evaluator_r2.evaluate(predictedLabes_num)"
   ]
  },
  {
   "cell_type": "markdown",
   "id": "1f8fc11c",
   "metadata": {},
   "source": [
    "#### Сравнение метрик качества моделей"
   ]
  },
  {
   "cell_type": "code",
   "execution_count": 52,
   "id": "56509b34",
   "metadata": {
    "scrolled": true
   },
   "outputs": [
    {
     "data": {
      "text/html": [
       "<div>\n",
       "<style scoped>\n",
       "    .dataframe tbody tr th:only-of-type {\n",
       "        vertical-align: middle;\n",
       "    }\n",
       "\n",
       "    .dataframe tbody tr th {\n",
       "        vertical-align: top;\n",
       "    }\n",
       "\n",
       "    .dataframe thead th {\n",
       "        text-align: right;\n",
       "    }\n",
       "</style>\n",
       "<table border=\"1\" class=\"dataframe\">\n",
       "  <thead>\n",
       "    <tr style=\"text-align: right;\">\n",
       "      <th></th>\n",
       "      <th>Метрики</th>\n",
       "      <th>LR по всем данным</th>\n",
       "      <th>LR по числовым данным</th>\n",
       "    </tr>\n",
       "  </thead>\n",
       "  <tbody>\n",
       "    <tr>\n",
       "      <th>0</th>\n",
       "      <td>RMSE</td>\n",
       "      <td>70610.236723</td>\n",
       "      <td>71567.036768</td>\n",
       "    </tr>\n",
       "    <tr>\n",
       "      <th>1</th>\n",
       "      <td>MAE</td>\n",
       "      <td>50783.403910</td>\n",
       "      <td>51675.146316</td>\n",
       "    </tr>\n",
       "    <tr>\n",
       "      <th>2</th>\n",
       "      <td>R2</td>\n",
       "      <td>0.639646</td>\n",
       "      <td>0.629814</td>\n",
       "    </tr>\n",
       "  </tbody>\n",
       "</table>\n",
       "</div>"
      ],
      "text/plain": [
       "  Метрики  LR по всем данным  LR по числовым данным\n",
       "0    RMSE       70610.236723           71567.036768\n",
       "1     MAE       50783.403910           51675.146316\n",
       "2      R2           0.639646               0.629814"
      ]
     },
     "metadata": {},
     "output_type": "display_data"
    }
   ],
   "source": [
    "# сводная таблица метрик\n",
    "info=pd.DataFrame({'Метрики':['RMSE', 'MAE', 'R2'],\n",
    "                      'LR по всем данным':[rmse_all, mae_all, r2_all],\n",
    "                  'LR по числовым данным':[rmse_num, mae_num, r2_num]})\n",
    "display(info)"
   ]
  },
  {
   "cell_type": "code",
   "execution_count": null,
   "id": "0cf04f90",
   "metadata": {},
   "outputs": [],
   "source": [
    "# закрытие spark-сессии\n",
    "spark.stop()"
   ]
  },
  {
   "cell_type": "markdown",
   "id": "9eff96d4",
   "metadata": {},
   "source": [
    "## Вывод"
   ]
  },
  {
   "cell_type": "markdown",
   "id": "b808e4de",
   "metadata": {},
   "source": [
    "<div style=\"padding: 30px 25px; border: 2px #6495ed solid\">\n",
    "    \n",
    "- Для предобработки данных был применен алгоритм, реализованный в рамках фреймворка Spark.\n",
    "- Для создания двух моделей был использован оценщик LinearRegression из библиотеки MLlib, и каждая модель была построена на отдельном наборе данных.\n",
    "- Было проведено сравнение метрик качества моделей для определения их относительной эффективности.    \n",
    "- Использование как числовых, так и категориальных признаков в модели приводит к улучшению ее качества по всем использованным метрикам качества, в сравнении с моделью, обученной только на числовых данных.\n",
    "- Полученные значения итоговых метрик являются очень низкими. Для улучшения этих метрик стоит рассмотреть возможность применения других алгоритмов обучения.\n",
    "</div>"
   ]
  }
 ],
 "metadata": {
  "ExecuteTimeLog": [
   {
    "duration": 905,
    "start_time": "2023-04-10T11:42:54.209Z"
   },
   {
    "duration": 20218,
    "start_time": "2023-04-10T11:43:15.637Z"
   },
   {
    "duration": 9329,
    "start_time": "2023-04-10T11:47:04.299Z"
   },
   {
    "duration": 19,
    "start_time": "2023-04-10T11:47:24.866Z"
   },
   {
    "duration": 38,
    "start_time": "2023-04-10T11:53:55.955Z"
   },
   {
    "duration": 374,
    "start_time": "2023-04-10T11:54:48.922Z"
   },
   {
    "duration": 633,
    "start_time": "2023-04-10T11:56:09.679Z"
   },
   {
    "duration": 1093,
    "start_time": "2023-04-10T11:58:32.301Z"
   },
   {
    "duration": 3889,
    "start_time": "2023-04-10T12:02:32.297Z"
   },
   {
    "duration": 7,
    "start_time": "2023-04-10T12:24:11.647Z"
   },
   {
    "duration": 507,
    "start_time": "2023-04-10T12:24:17.614Z"
   },
   {
    "duration": 10,
    "start_time": "2023-04-10T12:24:35.147Z"
   },
   {
    "duration": 2380,
    "start_time": "2023-04-10T12:26:55.527Z"
   },
   {
    "duration": 3,
    "start_time": "2023-04-10T12:31:39.441Z"
   },
   {
    "duration": 1659,
    "start_time": "2023-04-10T12:32:46.542Z"
   },
   {
    "duration": 25,
    "start_time": "2023-04-10T12:39:59.369Z"
   },
   {
    "duration": 2389,
    "start_time": "2023-04-10T12:40:14.323Z"
   },
   {
    "duration": 23,
    "start_time": "2023-04-10T12:41:31.803Z"
   },
   {
    "duration": 2564,
    "start_time": "2023-04-10T12:41:33.746Z"
   },
   {
    "duration": 17,
    "start_time": "2023-04-10T12:44:06.442Z"
   },
   {
    "duration": 8,
    "start_time": "2023-04-10T12:48:49.045Z"
   },
   {
    "duration": 458,
    "start_time": "2023-04-10T12:49:08.156Z"
   },
   {
    "duration": 252,
    "start_time": "2023-04-10T12:49:18.968Z"
   },
   {
    "duration": 305,
    "start_time": "2023-04-10T12:50:04.500Z"
   },
   {
    "duration": 350,
    "start_time": "2023-04-10T12:50:17.035Z"
   },
   {
    "duration": 318,
    "start_time": "2023-04-10T12:50:26.373Z"
   },
   {
    "duration": 321,
    "start_time": "2023-04-10T12:50:49.868Z"
   },
   {
    "duration": 225,
    "start_time": "2023-04-10T12:51:10.963Z"
   },
   {
    "duration": 169,
    "start_time": "2023-04-10T12:51:34.345Z"
   },
   {
    "duration": 307,
    "start_time": "2023-04-10T12:52:25.877Z"
   },
   {
    "duration": 198,
    "start_time": "2023-04-10T12:52:34.211Z"
   },
   {
    "duration": 10,
    "start_time": "2023-04-10T12:57:36.278Z"
   },
   {
    "duration": 31,
    "start_time": "2023-04-10T12:59:25.710Z"
   },
   {
    "duration": 1293,
    "start_time": "2023-04-10T13:05:18.722Z"
   },
   {
    "duration": 9,
    "start_time": "2023-04-10T13:06:26.536Z"
   },
   {
    "duration": 3,
    "start_time": "2023-04-10T13:07:08.266Z"
   },
   {
    "duration": 1153,
    "start_time": "2023-04-10T13:07:30.261Z"
   },
   {
    "duration": 4,
    "start_time": "2023-04-10T13:07:52.965Z"
   },
   {
    "duration": 1040,
    "start_time": "2023-04-10T13:07:54.171Z"
   },
   {
    "duration": 7,
    "start_time": "2023-04-10T13:08:05.025Z"
   },
   {
    "duration": 4,
    "start_time": "2023-04-10T13:08:27.629Z"
   },
   {
    "duration": 797,
    "start_time": "2023-04-10T13:08:28.802Z"
   },
   {
    "duration": 1244,
    "start_time": "2023-04-10T13:10:56.371Z"
   },
   {
    "duration": 1820,
    "start_time": "2023-04-10T13:21:36.119Z"
   },
   {
    "duration": 635,
    "start_time": "2023-04-10T13:22:50.182Z"
   },
   {
    "duration": 59,
    "start_time": "2023-04-10T13:23:38.844Z"
   },
   {
    "duration": 143,
    "start_time": "2023-04-10T13:25:56.236Z"
   },
   {
    "duration": 17116,
    "start_time": "2023-04-10T13:26:41.776Z"
   },
   {
    "duration": 10498,
    "start_time": "2023-04-10T13:26:58.895Z"
   },
   {
    "duration": 1291,
    "start_time": "2023-04-10T13:27:09.395Z"
   },
   {
    "duration": 97,
    "start_time": "2023-04-10T13:27:10.688Z"
   },
   {
    "duration": 802,
    "start_time": "2023-04-10T13:27:10.790Z"
   },
   {
    "duration": 4395,
    "start_time": "2023-04-10T13:27:11.594Z"
   },
   {
    "duration": 3,
    "start_time": "2023-04-10T13:27:15.991Z"
   },
   {
    "duration": 3025,
    "start_time": "2023-04-10T13:27:15.996Z"
   },
   {
    "duration": 65,
    "start_time": "2023-04-10T13:27:19.024Z"
   },
   {
    "duration": 408,
    "start_time": "2023-04-10T13:27:19.091Z"
   },
   {
    "duration": 105,
    "start_time": "2023-04-10T13:27:19.501Z"
   },
   {
    "duration": 1847,
    "start_time": "2023-04-10T13:27:19.608Z"
   },
   {
    "duration": 1789,
    "start_time": "2023-04-10T13:27:21.457Z"
   },
   {
    "duration": 615,
    "start_time": "2023-04-10T13:27:23.286Z"
   },
   {
    "duration": 64,
    "start_time": "2023-04-10T13:27:28.622Z"
   },
   {
    "duration": 29,
    "start_time": "2023-04-10T13:29:14.057Z"
   },
   {
    "duration": 1010,
    "start_time": "2023-04-10T13:29:37.066Z"
   },
   {
    "duration": 8,
    "start_time": "2023-04-10T13:34:26.025Z"
   },
   {
    "duration": 570,
    "start_time": "2023-04-10T13:34:26.035Z"
   },
   {
    "duration": 286,
    "start_time": "2023-04-10T13:34:26.607Z"
   },
   {
    "duration": 4,
    "start_time": "2023-04-10T13:34:26.895Z"
   },
   {
    "duration": 294,
    "start_time": "2023-04-10T13:34:26.901Z"
   },
   {
    "duration": 1499,
    "start_time": "2023-04-10T13:34:27.196Z"
   },
   {
    "duration": 3,
    "start_time": "2023-04-10T13:34:28.697Z"
   },
   {
    "duration": 1516,
    "start_time": "2023-04-10T13:34:28.701Z"
   },
   {
    "duration": 71,
    "start_time": "2023-04-10T13:34:30.220Z"
   },
   {
    "duration": 316,
    "start_time": "2023-04-10T13:34:30.292Z"
   },
   {
    "duration": 78,
    "start_time": "2023-04-10T13:34:30.611Z"
   },
   {
    "duration": 1660,
    "start_time": "2023-04-10T13:34:30.691Z"
   },
   {
    "duration": 596,
    "start_time": "2023-04-10T13:34:32.353Z"
   },
   {
    "duration": 234,
    "start_time": "2023-04-10T13:34:32.951Z"
   },
   {
    "duration": 22,
    "start_time": "2023-04-10T13:34:51.375Z"
   },
   {
    "duration": 190,
    "start_time": "2023-04-10T13:34:53.851Z"
   },
   {
    "duration": 24,
    "start_time": "2023-04-10T13:36:16.660Z"
   },
   {
    "duration": 387,
    "start_time": "2023-04-10T13:36:22.181Z"
   },
   {
    "duration": 16787,
    "start_time": "2023-04-10T13:44:26.904Z"
   },
   {
    "duration": 8496,
    "start_time": "2023-04-10T13:44:43.695Z"
   },
   {
    "duration": 1105,
    "start_time": "2023-04-10T13:44:52.193Z"
   },
   {
    "duration": 13,
    "start_time": "2023-04-10T13:44:53.300Z"
   },
   {
    "duration": 702,
    "start_time": "2023-04-10T13:44:53.383Z"
   },
   {
    "duration": 3638,
    "start_time": "2023-04-10T13:44:54.087Z"
   },
   {
    "duration": 3,
    "start_time": "2023-04-10T13:44:57.727Z"
   },
   {
    "duration": 2954,
    "start_time": "2023-04-10T13:44:57.731Z"
   },
   {
    "duration": 29,
    "start_time": "2023-04-10T13:45:00.688Z"
   },
   {
    "duration": 497,
    "start_time": "2023-04-10T13:45:00.719Z"
   },
   {
    "duration": 88,
    "start_time": "2023-04-10T13:45:01.218Z"
   },
   {
    "duration": 13,
    "start_time": "2023-04-10T13:45:03.724Z"
   },
   {
    "duration": 1458,
    "start_time": "2023-04-10T13:45:20.161Z"
   },
   {
    "duration": 1815,
    "start_time": "2023-04-10T13:45:42.977Z"
   },
   {
    "duration": 1802,
    "start_time": "2023-04-10T13:45:44.795Z"
   },
   {
    "duration": 605,
    "start_time": "2023-04-10T13:45:46.599Z"
   },
   {
    "duration": 652,
    "start_time": "2023-04-10T13:45:47.206Z"
   },
   {
    "duration": 31,
    "start_time": "2023-04-10T13:45:53.626Z"
   },
   {
    "duration": 939,
    "start_time": "2023-04-10T13:45:55.625Z"
   },
   {
    "duration": 10,
    "start_time": "2023-04-10T14:07:48.972Z"
   },
   {
    "duration": 5,
    "start_time": "2023-04-10T14:14:56.534Z"
   },
   {
    "duration": 16767,
    "start_time": "2023-04-10T14:15:12.242Z"
   },
   {
    "duration": 9687,
    "start_time": "2023-04-10T14:15:29.012Z"
   },
   {
    "duration": 1407,
    "start_time": "2023-04-10T14:15:38.703Z"
   },
   {
    "duration": 95,
    "start_time": "2023-04-10T14:15:40.113Z"
   },
   {
    "duration": 705,
    "start_time": "2023-04-10T14:15:40.212Z"
   },
   {
    "duration": 3812,
    "start_time": "2023-04-10T14:15:40.984Z"
   },
   {
    "duration": 4,
    "start_time": "2023-04-10T14:15:44.798Z"
   },
   {
    "duration": 2711,
    "start_time": "2023-04-10T14:15:44.804Z"
   },
   {
    "duration": 22,
    "start_time": "2023-04-10T14:15:47.517Z"
   },
   {
    "duration": 450,
    "start_time": "2023-04-10T14:15:47.541Z"
   },
   {
    "duration": 91,
    "start_time": "2023-04-10T14:15:47.993Z"
   },
   {
    "duration": 29,
    "start_time": "2023-04-10T14:15:48.086Z"
   },
   {
    "duration": 2275,
    "start_time": "2023-04-10T14:15:48.117Z"
   },
   {
    "duration": 1863,
    "start_time": "2023-04-10T14:15:50.395Z"
   },
   {
    "duration": 653,
    "start_time": "2023-04-10T14:15:52.260Z"
   },
   {
    "duration": 102,
    "start_time": "2023-04-10T14:15:52.914Z"
   },
   {
    "duration": 26,
    "start_time": "2023-04-10T14:16:56.928Z"
   },
   {
    "duration": 957,
    "start_time": "2023-04-10T14:16:58.547Z"
   },
   {
    "duration": 5,
    "start_time": "2023-04-10T14:17:22.570Z"
   },
   {
    "duration": 16054,
    "start_time": "2023-04-10T14:23:52.942Z"
   },
   {
    "duration": 8608,
    "start_time": "2023-04-10T14:24:08.998Z"
   },
   {
    "duration": 993,
    "start_time": "2023-04-10T14:24:17.610Z"
   },
   {
    "duration": 81,
    "start_time": "2023-04-10T14:24:18.604Z"
   },
   {
    "duration": 602,
    "start_time": "2023-04-10T14:24:18.688Z"
   },
   {
    "duration": 3417,
    "start_time": "2023-04-10T14:24:19.292Z"
   },
   {
    "duration": 3,
    "start_time": "2023-04-10T14:24:22.710Z"
   },
   {
    "duration": 2073,
    "start_time": "2023-04-10T14:24:22.714Z"
   },
   {
    "duration": 35,
    "start_time": "2023-04-10T14:24:24.789Z"
   },
   {
    "duration": 478,
    "start_time": "2023-04-10T14:24:24.826Z"
   },
   {
    "duration": 101,
    "start_time": "2023-04-10T14:24:25.306Z"
   },
   {
    "duration": 75,
    "start_time": "2023-04-10T14:24:25.409Z"
   },
   {
    "duration": 1412,
    "start_time": "2023-04-10T14:24:25.485Z"
   },
   {
    "duration": 15,
    "start_time": "2023-04-10T14:24:26.900Z"
   },
   {
    "duration": 1774,
    "start_time": "2023-04-10T14:24:26.917Z"
   },
   {
    "duration": 648,
    "start_time": "2023-04-10T14:24:28.693Z"
   },
   {
    "duration": 75,
    "start_time": "2023-04-10T14:24:29.343Z"
   },
   {
    "duration": 31,
    "start_time": "2023-04-10T14:24:29.483Z"
   },
   {
    "duration": 1088,
    "start_time": "2023-04-10T14:24:38.240Z"
   },
   {
    "duration": 86,
    "start_time": "2023-04-10T14:25:34.326Z"
   },
   {
    "duration": 851,
    "start_time": "2023-04-10T14:27:32.929Z"
   },
   {
    "duration": 15878,
    "start_time": "2023-04-10T14:28:11.734Z"
   },
   {
    "duration": 629,
    "start_time": "2023-04-10T14:28:27.615Z"
   },
   {
    "duration": 0,
    "start_time": "2023-04-10T14:28:28.246Z"
   },
   {
    "duration": 0,
    "start_time": "2023-04-10T14:28:28.247Z"
   },
   {
    "duration": 0,
    "start_time": "2023-04-10T14:28:28.249Z"
   },
   {
    "duration": 0,
    "start_time": "2023-04-10T14:28:28.250Z"
   },
   {
    "duration": 0,
    "start_time": "2023-04-10T14:28:28.251Z"
   },
   {
    "duration": 0,
    "start_time": "2023-04-10T14:28:28.252Z"
   },
   {
    "duration": 0,
    "start_time": "2023-04-10T14:28:28.253Z"
   },
   {
    "duration": 0,
    "start_time": "2023-04-10T14:28:28.255Z"
   },
   {
    "duration": 0,
    "start_time": "2023-04-10T14:28:28.255Z"
   },
   {
    "duration": 0,
    "start_time": "2023-04-10T14:28:28.256Z"
   },
   {
    "duration": 0,
    "start_time": "2023-04-10T14:28:28.258Z"
   },
   {
    "duration": 0,
    "start_time": "2023-04-10T14:28:28.259Z"
   },
   {
    "duration": 0,
    "start_time": "2023-04-10T14:28:28.284Z"
   },
   {
    "duration": 0,
    "start_time": "2023-04-10T14:28:28.285Z"
   },
   {
    "duration": 0,
    "start_time": "2023-04-10T14:28:28.287Z"
   },
   {
    "duration": 8,
    "start_time": "2023-04-10T14:28:45.603Z"
   },
   {
    "duration": 8,
    "start_time": "2023-04-10T14:28:54.918Z"
   },
   {
    "duration": 280,
    "start_time": "2023-04-10T14:28:54.928Z"
   },
   {
    "duration": 0,
    "start_time": "2023-04-10T14:28:55.212Z"
   },
   {
    "duration": 0,
    "start_time": "2023-04-10T14:28:55.214Z"
   },
   {
    "duration": 0,
    "start_time": "2023-04-10T14:28:55.216Z"
   },
   {
    "duration": 0,
    "start_time": "2023-04-10T14:28:55.217Z"
   },
   {
    "duration": 0,
    "start_time": "2023-04-10T14:28:55.218Z"
   },
   {
    "duration": 0,
    "start_time": "2023-04-10T14:28:55.219Z"
   },
   {
    "duration": 0,
    "start_time": "2023-04-10T14:28:55.220Z"
   },
   {
    "duration": 0,
    "start_time": "2023-04-10T14:28:55.221Z"
   },
   {
    "duration": 0,
    "start_time": "2023-04-10T14:28:55.222Z"
   },
   {
    "duration": 0,
    "start_time": "2023-04-10T14:28:55.223Z"
   },
   {
    "duration": 0,
    "start_time": "2023-04-10T14:28:55.224Z"
   },
   {
    "duration": 0,
    "start_time": "2023-04-10T14:28:55.225Z"
   },
   {
    "duration": 0,
    "start_time": "2023-04-10T14:28:55.227Z"
   },
   {
    "duration": 0,
    "start_time": "2023-04-10T14:28:55.228Z"
   },
   {
    "duration": 0,
    "start_time": "2023-04-10T14:28:55.229Z"
   },
   {
    "duration": 0,
    "start_time": "2023-04-10T14:28:55.229Z"
   },
   {
    "duration": 15823,
    "start_time": "2023-04-10T14:29:41.804Z"
   },
   {
    "duration": 417,
    "start_time": "2023-04-10T14:30:31.337Z"
   },
   {
    "duration": 7,
    "start_time": "2023-04-10T14:32:09.477Z"
   },
   {
    "duration": 6,
    "start_time": "2023-04-10T14:32:18.425Z"
   },
   {
    "duration": 106,
    "start_time": "2023-04-10T14:32:23.184Z"
   },
   {
    "duration": 15158,
    "start_time": "2023-04-10T14:33:19.155Z"
   },
   {
    "duration": 280,
    "start_time": "2023-04-10T14:33:37.808Z"
   },
   {
    "duration": 157,
    "start_time": "2023-04-10T14:34:41.553Z"
   },
   {
    "duration": 7946,
    "start_time": "2023-04-10T14:35:24.555Z"
   },
   {
    "duration": 889,
    "start_time": "2023-04-10T14:35:55.395Z"
   },
   {
    "duration": 13,
    "start_time": "2023-04-10T14:35:58.280Z"
   },
   {
    "duration": 583,
    "start_time": "2023-04-10T14:35:58.623Z"
   },
   {
    "duration": 3903,
    "start_time": "2023-04-10T14:35:59.208Z"
   },
   {
    "duration": 3,
    "start_time": "2023-04-10T14:36:03.113Z"
   },
   {
    "duration": 2305,
    "start_time": "2023-04-10T14:36:03.118Z"
   },
   {
    "duration": 80,
    "start_time": "2023-04-10T14:36:05.424Z"
   },
   {
    "duration": 482,
    "start_time": "2023-04-10T14:36:05.506Z"
   },
   {
    "duration": 94,
    "start_time": "2023-04-10T14:36:05.990Z"
   },
   {
    "duration": 20,
    "start_time": "2023-04-10T14:36:06.087Z"
   },
   {
    "duration": 1491,
    "start_time": "2023-04-10T14:36:06.110Z"
   },
   {
    "duration": 16,
    "start_time": "2023-04-10T14:36:07.603Z"
   },
   {
    "duration": 1872,
    "start_time": "2023-04-10T14:36:07.622Z"
   },
   {
    "duration": 688,
    "start_time": "2023-04-10T14:36:09.496Z"
   },
   {
    "duration": 100,
    "start_time": "2023-04-10T14:36:10.187Z"
   },
   {
    "duration": 2604,
    "start_time": "2023-04-10T14:36:31.100Z"
   },
   {
    "duration": 25,
    "start_time": "2023-04-10T14:39:48.025Z"
   },
   {
    "duration": 686,
    "start_time": "2023-04-10T14:39:58.754Z"
   },
   {
    "duration": 544,
    "start_time": "2023-04-10T14:40:25.277Z"
   },
   {
    "duration": 15614,
    "start_time": "2023-04-10T14:42:20.905Z"
   },
   {
    "duration": 5781,
    "start_time": "2023-04-10T14:42:36.522Z"
   },
   {
    "duration": 0,
    "start_time": "2023-04-10T14:42:42.384Z"
   },
   {
    "duration": 0,
    "start_time": "2023-04-10T14:42:42.386Z"
   },
   {
    "duration": 0,
    "start_time": "2023-04-10T14:42:42.387Z"
   },
   {
    "duration": 0,
    "start_time": "2023-04-10T14:42:42.389Z"
   },
   {
    "duration": 0,
    "start_time": "2023-04-10T14:42:42.391Z"
   },
   {
    "duration": 0,
    "start_time": "2023-04-10T14:42:42.392Z"
   },
   {
    "duration": 0,
    "start_time": "2023-04-10T14:42:42.395Z"
   },
   {
    "duration": 0,
    "start_time": "2023-04-10T14:42:42.396Z"
   },
   {
    "duration": 0,
    "start_time": "2023-04-10T14:42:42.397Z"
   },
   {
    "duration": 0,
    "start_time": "2023-04-10T14:42:42.400Z"
   },
   {
    "duration": 0,
    "start_time": "2023-04-10T14:42:42.401Z"
   },
   {
    "duration": 0,
    "start_time": "2023-04-10T14:42:42.402Z"
   },
   {
    "duration": 0,
    "start_time": "2023-04-10T14:42:42.484Z"
   },
   {
    "duration": 0,
    "start_time": "2023-04-10T14:42:42.485Z"
   },
   {
    "duration": 0,
    "start_time": "2023-04-10T14:42:42.487Z"
   },
   {
    "duration": 0,
    "start_time": "2023-04-10T14:42:42.489Z"
   },
   {
    "duration": 15800,
    "start_time": "2023-04-10T14:43:02.227Z"
   },
   {
    "duration": 8867,
    "start_time": "2023-04-10T14:43:18.030Z"
   },
   {
    "duration": 1121,
    "start_time": "2023-04-10T14:43:26.899Z"
   },
   {
    "duration": 77,
    "start_time": "2023-04-10T14:43:28.022Z"
   },
   {
    "duration": 679,
    "start_time": "2023-04-10T14:43:28.105Z"
   },
   {
    "duration": 3645,
    "start_time": "2023-04-10T14:43:28.786Z"
   },
   {
    "duration": 4,
    "start_time": "2023-04-10T14:43:32.484Z"
   },
   {
    "duration": 2335,
    "start_time": "2023-04-10T14:43:32.489Z"
   },
   {
    "duration": 31,
    "start_time": "2023-04-10T14:43:34.885Z"
   },
   {
    "duration": 474,
    "start_time": "2023-04-10T14:43:34.918Z"
   },
   {
    "duration": 97,
    "start_time": "2023-04-10T14:43:35.394Z"
   },
   {
    "duration": 12,
    "start_time": "2023-04-10T14:43:35.494Z"
   },
   {
    "duration": 1535,
    "start_time": "2023-04-10T14:43:35.508Z"
   },
   {
    "duration": 41,
    "start_time": "2023-04-10T14:43:37.047Z"
   },
   {
    "duration": 1794,
    "start_time": "2023-04-10T14:43:37.090Z"
   },
   {
    "duration": 739,
    "start_time": "2023-04-10T14:43:38.886Z"
   },
   {
    "duration": 160,
    "start_time": "2023-04-10T14:43:39.627Z"
   },
   {
    "duration": 95,
    "start_time": "2023-04-10T14:43:50.748Z"
   },
   {
    "duration": 2523,
    "start_time": "2023-04-10T14:44:38.073Z"
   },
   {
    "duration": 726,
    "start_time": "2023-04-10T14:45:57.964Z"
   },
   {
    "duration": 8,
    "start_time": "2023-04-10T14:47:37.936Z"
   },
   {
    "duration": 491,
    "start_time": "2023-04-10T14:50:17.384Z"
   },
   {
    "duration": 106,
    "start_time": "2023-04-10T14:52:07.462Z"
   },
   {
    "duration": 121,
    "start_time": "2023-04-10T14:52:25.203Z"
   },
   {
    "duration": 366,
    "start_time": "2023-04-10T14:58:15.684Z"
   },
   {
    "duration": 30,
    "start_time": "2023-04-10T14:58:44.708Z"
   },
   {
    "duration": 257,
    "start_time": "2023-04-10T14:59:40.855Z"
   },
   {
    "duration": 93,
    "start_time": "2023-04-10T15:02:26.390Z"
   },
   {
    "duration": 20,
    "start_time": "2023-04-10T15:02:46.108Z"
   },
   {
    "duration": 5,
    "start_time": "2023-04-10T15:03:20.155Z"
   },
   {
    "duration": 126,
    "start_time": "2023-04-10T15:03:30.410Z"
   },
   {
    "duration": 103,
    "start_time": "2023-04-10T15:04:14.513Z"
   },
   {
    "duration": 33,
    "start_time": "2023-04-10T15:09:09.840Z"
   },
   {
    "duration": 785,
    "start_time": "2023-04-10T15:10:02.292Z"
   },
   {
    "duration": 491,
    "start_time": "2023-04-10T15:10:28.904Z"
   },
   {
    "duration": 879,
    "start_time": "2023-04-10T15:10:45.621Z"
   },
   {
    "duration": 19632,
    "start_time": "2023-04-10T15:11:30.566Z"
   },
   {
    "duration": 11786,
    "start_time": "2023-04-10T15:11:50.202Z"
   },
   {
    "duration": 1204,
    "start_time": "2023-04-10T15:12:01.990Z"
   },
   {
    "duration": 14,
    "start_time": "2023-04-10T15:12:03.196Z"
   },
   {
    "duration": 873,
    "start_time": "2023-04-10T15:12:03.213Z"
   },
   {
    "duration": 4429,
    "start_time": "2023-04-10T15:12:04.088Z"
   },
   {
    "duration": 4,
    "start_time": "2023-04-10T15:12:08.520Z"
   },
   {
    "duration": 2458,
    "start_time": "2023-04-10T15:12:08.525Z"
   },
   {
    "duration": 25,
    "start_time": "2023-04-10T15:12:10.985Z"
   },
   {
    "duration": 576,
    "start_time": "2023-04-10T15:12:11.012Z"
   },
   {
    "duration": 106,
    "start_time": "2023-04-10T15:12:11.591Z"
   },
   {
    "duration": 12,
    "start_time": "2023-04-10T15:12:11.699Z"
   },
   {
    "duration": 2005,
    "start_time": "2023-04-10T15:12:11.714Z"
   },
   {
    "duration": 70,
    "start_time": "2023-04-10T15:12:13.722Z"
   },
   {
    "duration": 2408,
    "start_time": "2023-04-10T15:12:13.795Z"
   },
   {
    "duration": 819,
    "start_time": "2023-04-10T15:12:16.205Z"
   },
   {
    "duration": 164,
    "start_time": "2023-04-10T15:12:17.027Z"
   },
   {
    "duration": 93,
    "start_time": "2023-04-10T15:12:17.193Z"
   },
   {
    "duration": 415,
    "start_time": "2023-04-10T15:12:17.289Z"
   },
   {
    "duration": 1985,
    "start_time": "2023-04-10T15:12:22.303Z"
   },
   {
    "duration": 848,
    "start_time": "2023-04-10T15:14:35.796Z"
   },
   {
    "duration": 9,
    "start_time": "2023-04-10T15:16:58.116Z"
   },
   {
    "duration": 19466,
    "start_time": "2023-04-10T15:17:26.936Z"
   },
   {
    "duration": 11087,
    "start_time": "2023-04-10T15:17:46.408Z"
   },
   {
    "duration": 1128,
    "start_time": "2023-04-10T15:17:57.497Z"
   },
   {
    "duration": 90,
    "start_time": "2023-04-10T15:17:58.626Z"
   },
   {
    "duration": 883,
    "start_time": "2023-04-10T15:17:58.723Z"
   },
   {
    "duration": 4897,
    "start_time": "2023-04-10T15:17:59.608Z"
   },
   {
    "duration": 3,
    "start_time": "2023-04-10T15:18:04.508Z"
   },
   {
    "duration": 2598,
    "start_time": "2023-04-10T15:18:04.513Z"
   },
   {
    "duration": 88,
    "start_time": "2023-04-10T15:18:07.114Z"
   },
   {
    "duration": 519,
    "start_time": "2023-04-10T15:18:07.204Z"
   },
   {
    "duration": 104,
    "start_time": "2023-04-10T15:18:07.726Z"
   },
   {
    "duration": 22,
    "start_time": "2023-04-10T15:18:07.888Z"
   },
   {
    "duration": 1714,
    "start_time": "2023-04-10T15:18:07.913Z"
   },
   {
    "duration": 54,
    "start_time": "2023-04-10T15:18:09.631Z"
   },
   {
    "duration": 2105,
    "start_time": "2023-04-10T15:18:09.693Z"
   },
   {
    "duration": 1110,
    "start_time": "2023-04-10T15:18:11.802Z"
   },
   {
    "duration": 93,
    "start_time": "2023-04-10T15:18:12.916Z"
   },
   {
    "duration": 112,
    "start_time": "2023-04-10T15:18:13.012Z"
   },
   {
    "duration": 624,
    "start_time": "2023-04-10T15:18:13.182Z"
   },
   {
    "duration": 95,
    "start_time": "2023-04-10T15:18:18.928Z"
   },
   {
    "duration": 24,
    "start_time": "2023-04-10T15:20:27.003Z"
   },
   {
    "duration": 10,
    "start_time": "2023-04-10T15:20:59.024Z"
   },
   {
    "duration": 1864,
    "start_time": "2023-04-10T15:21:09.708Z"
   },
   {
    "duration": 797,
    "start_time": "2023-04-10T15:21:21.487Z"
   },
   {
    "duration": 585,
    "start_time": "2023-04-10T15:21:35.751Z"
   },
   {
    "duration": 950,
    "start_time": "2023-04-10T15:21:48.333Z"
   },
   {
    "duration": 18940,
    "start_time": "2023-04-10T15:22:13.949Z"
   },
   {
    "duration": 10824,
    "start_time": "2023-04-10T15:22:32.892Z"
   },
   {
    "duration": 1586,
    "start_time": "2023-04-10T15:22:43.718Z"
   },
   {
    "duration": 85,
    "start_time": "2023-04-10T15:22:45.305Z"
   },
   {
    "duration": 718,
    "start_time": "2023-04-10T15:22:45.395Z"
   },
   {
    "duration": 4844,
    "start_time": "2023-04-10T15:22:46.183Z"
   },
   {
    "duration": 53,
    "start_time": "2023-04-10T15:22:51.031Z"
   },
   {
    "duration": 2910,
    "start_time": "2023-04-10T15:22:51.086Z"
   },
   {
    "duration": 93,
    "start_time": "2023-04-10T15:22:53.998Z"
   },
   {
    "duration": 599,
    "start_time": "2023-04-10T15:22:54.095Z"
   },
   {
    "duration": 97,
    "start_time": "2023-04-10T15:22:54.697Z"
   },
   {
    "duration": 14,
    "start_time": "2023-04-10T15:22:54.797Z"
   },
   {
    "duration": 1891,
    "start_time": "2023-04-10T15:22:54.814Z"
   },
   {
    "duration": 24,
    "start_time": "2023-04-10T15:22:56.710Z"
   },
   {
    "duration": 2221,
    "start_time": "2023-04-10T15:22:56.782Z"
   },
   {
    "duration": 712,
    "start_time": "2023-04-10T15:22:59.006Z"
   },
   {
    "duration": 116,
    "start_time": "2023-04-10T15:22:59.720Z"
   },
   {
    "duration": 44,
    "start_time": "2023-04-10T15:22:59.884Z"
   },
   {
    "duration": 608,
    "start_time": "2023-04-10T15:22:59.983Z"
   },
   {
    "duration": 36,
    "start_time": "2023-04-10T15:23:04.372Z"
   },
   {
    "duration": 2013,
    "start_time": "2023-04-10T15:23:09.055Z"
   },
   {
    "duration": 8,
    "start_time": "2023-04-10T15:23:47.608Z"
   },
   {
    "duration": 1407,
    "start_time": "2023-04-10T15:24:03.985Z"
   },
   {
    "duration": 17,
    "start_time": "2023-04-10T15:34:06.694Z"
   },
   {
    "duration": 18412,
    "start_time": "2023-04-10T15:35:03.596Z"
   },
   {
    "duration": 10411,
    "start_time": "2023-04-10T15:35:26.086Z"
   },
   {
    "duration": 1371,
    "start_time": "2023-04-10T15:35:38.635Z"
   },
   {
    "duration": 16,
    "start_time": "2023-04-10T15:35:41.556Z"
   },
   {
    "duration": 896,
    "start_time": "2023-04-10T15:35:49.693Z"
   },
   {
    "duration": 4721,
    "start_time": "2023-04-10T15:35:56.980Z"
   },
   {
    "duration": 82,
    "start_time": "2023-04-10T15:36:06.346Z"
   },
   {
    "duration": 520,
    "start_time": "2023-04-10T15:36:41.087Z"
   },
   {
    "duration": 3171,
    "start_time": "2023-04-10T15:36:54.129Z"
   },
   {
    "duration": 3,
    "start_time": "2023-04-10T15:38:18.652Z"
   },
   {
    "duration": 2828,
    "start_time": "2023-04-10T15:38:22.588Z"
   },
   {
    "duration": 22,
    "start_time": "2023-04-10T15:38:29.868Z"
   },
   {
    "duration": 433,
    "start_time": "2023-04-10T15:38:32.750Z"
   },
   {
    "duration": 34,
    "start_time": "2023-04-10T15:38:34.602Z"
   },
   {
    "duration": 11,
    "start_time": "2023-04-10T15:38:35.593Z"
   },
   {
    "duration": 2206,
    "start_time": "2023-04-10T15:39:28.737Z"
   },
   {
    "duration": 2,
    "start_time": "2023-04-10T15:40:54.428Z"
   },
   {
    "duration": 1276,
    "start_time": "2023-04-10T15:41:17.938Z"
   },
   {
    "duration": 177,
    "start_time": "2023-04-10T15:42:11.063Z"
   },
   {
    "duration": 11,
    "start_time": "2023-04-10T15:42:21.841Z"
   },
   {
    "duration": 12,
    "start_time": "2023-04-10T15:42:48.310Z"
   },
   {
    "duration": 11,
    "start_time": "2023-04-10T15:45:26.238Z"
   },
   {
    "duration": 10,
    "start_time": "2023-04-10T15:45:51.055Z"
   },
   {
    "duration": 9,
    "start_time": "2023-04-10T16:07:53.034Z"
   },
   {
    "duration": 16827,
    "start_time": "2023-04-10T16:08:15.887Z"
   },
   {
    "duration": 9290,
    "start_time": "2023-04-10T16:08:32.717Z"
   },
   {
    "duration": 1182,
    "start_time": "2023-04-10T16:08:42.008Z"
   },
   {
    "duration": 13,
    "start_time": "2023-04-10T16:08:43.192Z"
   },
   {
    "duration": 887,
    "start_time": "2023-04-10T16:08:43.206Z"
   },
   {
    "duration": 3813,
    "start_time": "2023-04-10T16:08:44.094Z"
   },
   {
    "duration": 487,
    "start_time": "2023-04-10T16:08:47.909Z"
   },
   {
    "duration": 3,
    "start_time": "2023-04-10T16:08:48.399Z"
   },
   {
    "duration": 2789,
    "start_time": "2023-04-10T16:08:48.404Z"
   },
   {
    "duration": 16,
    "start_time": "2023-04-10T16:08:51.196Z"
   },
   {
    "duration": 478,
    "start_time": "2023-04-10T16:08:51.214Z"
   },
   {
    "duration": 78,
    "start_time": "2023-04-10T16:08:56.641Z"
   },
   {
    "duration": 9,
    "start_time": "2023-04-10T16:09:51.669Z"
   },
   {
    "duration": 27,
    "start_time": "2023-04-10T16:10:01.508Z"
   },
   {
    "duration": 2286,
    "start_time": "2023-04-10T16:10:13.523Z"
   },
   {
    "duration": 14,
    "start_time": "2023-04-10T16:16:09.071Z"
   },
   {
    "duration": 2726,
    "start_time": "2023-04-10T16:16:10.694Z"
   },
   {
    "duration": 2002,
    "start_time": "2023-04-10T16:16:17.725Z"
   },
   {
    "duration": 1917,
    "start_time": "2023-04-10T16:16:24.144Z"
   },
   {
    "duration": 568,
    "start_time": "2023-04-10T16:16:28.328Z"
   },
   {
    "duration": 46,
    "start_time": "2023-04-10T16:16:33.641Z"
   },
   {
    "duration": 37,
    "start_time": "2023-04-10T16:17:22.517Z"
   },
   {
    "duration": 1457,
    "start_time": "2023-04-10T16:17:50.127Z"
   },
   {
    "duration": 433,
    "start_time": "2023-04-10T16:18:08.104Z"
   },
   {
    "duration": 3226,
    "start_time": "2023-04-10T16:18:37.684Z"
   },
   {
    "duration": 14,
    "start_time": "2023-04-10T16:18:54.037Z"
   },
   {
    "duration": 4219,
    "start_time": "2023-04-10T16:19:10.866Z"
   },
   {
    "duration": 888,
    "start_time": "2023-04-10T16:20:58.196Z"
   },
   {
    "duration": 2322,
    "start_time": "2023-04-10T16:44:21.268Z"
   },
   {
    "duration": 498,
    "start_time": "2023-04-10T16:44:53.018Z"
   },
   {
    "duration": 130,
    "start_time": "2023-04-10T16:51:00.788Z"
   },
   {
    "duration": 2296,
    "start_time": "2023-04-10T16:53:14.415Z"
   },
   {
    "duration": 790,
    "start_time": "2023-04-10T16:54:24.909Z"
   },
   {
    "duration": 1651,
    "start_time": "2023-04-10T16:56:53.867Z"
   },
   {
    "duration": 475,
    "start_time": "2023-04-10T16:56:56.751Z"
   },
   {
    "duration": 1778,
    "start_time": "2023-04-10T16:57:23.425Z"
   },
   {
    "duration": 495,
    "start_time": "2023-04-10T16:57:27.619Z"
   },
   {
    "duration": 811,
    "start_time": "2023-04-10T17:01:34.276Z"
   },
   {
    "duration": 11,
    "start_time": "2023-04-10T17:01:44.816Z"
   },
   {
    "duration": 4,
    "start_time": "2023-04-10T17:01:53.108Z"
   },
   {
    "duration": 620,
    "start_time": "2023-04-10T17:03:23.965Z"
   },
   {
    "duration": 16317,
    "start_time": "2023-04-11T08:55:55.138Z"
   },
   {
    "duration": 10,
    "start_time": "2023-04-11T08:56:58.022Z"
   },
   {
    "duration": 9461,
    "start_time": "2023-04-11T08:56:58.035Z"
   },
   {
    "duration": 1182,
    "start_time": "2023-04-11T08:57:07.498Z"
   },
   {
    "duration": 15,
    "start_time": "2023-04-11T08:57:08.683Z"
   },
   {
    "duration": 674,
    "start_time": "2023-04-11T08:57:08.700Z"
   },
   {
    "duration": 4317,
    "start_time": "2023-04-11T08:57:09.376Z"
   },
   {
    "duration": 489,
    "start_time": "2023-04-11T08:57:13.694Z"
   },
   {
    "duration": 66,
    "start_time": "2023-04-11T08:57:14.184Z"
   },
   {
    "duration": 2844,
    "start_time": "2023-04-11T08:57:14.252Z"
   },
   {
    "duration": 23,
    "start_time": "2023-04-11T08:57:17.151Z"
   },
   {
    "duration": 498,
    "start_time": "2023-04-11T08:57:17.176Z"
   },
   {
    "duration": 95,
    "start_time": "2023-04-11T08:57:17.675Z"
   },
   {
    "duration": 82,
    "start_time": "2023-04-11T08:57:17.772Z"
   },
   {
    "duration": 2618,
    "start_time": "2023-04-11T08:57:17.856Z"
   },
   {
    "duration": 2392,
    "start_time": "2023-04-11T08:57:20.476Z"
   },
   {
    "duration": 1795,
    "start_time": "2023-04-11T08:57:22.870Z"
   },
   {
    "duration": 732,
    "start_time": "2023-04-11T08:57:24.668Z"
   },
   {
    "duration": 88,
    "start_time": "2023-04-11T08:57:25.402Z"
   },
   {
    "duration": 34,
    "start_time": "2023-04-11T08:57:25.552Z"
   },
   {
    "duration": 1300,
    "start_time": "2023-04-11T08:57:25.588Z"
   },
   {
    "duration": 481,
    "start_time": "2023-04-11T08:57:26.890Z"
   },
   {
    "duration": 3711,
    "start_time": "2023-04-11T08:57:27.372Z"
   },
   {
    "duration": 94,
    "start_time": "2023-04-11T09:00:50.724Z"
   },
   {
    "duration": 44,
    "start_time": "2023-04-11T09:02:24.960Z"
   },
   {
    "duration": 8,
    "start_time": "2023-04-11T09:02:41.977Z"
   },
   {
    "duration": 9,
    "start_time": "2023-04-11T09:05:57.767Z"
   },
   {
    "duration": 4822,
    "start_time": "2023-04-11T09:07:34.931Z"
   },
   {
    "duration": 11,
    "start_time": "2023-04-11T09:11:59.461Z"
   },
   {
    "duration": 8,
    "start_time": "2023-04-11T09:12:01.452Z"
   },
   {
    "duration": 8,
    "start_time": "2023-04-11T09:12:03.098Z"
   },
   {
    "duration": 1037,
    "start_time": "2023-04-11T09:12:06.538Z"
   },
   {
    "duration": 88,
    "start_time": "2023-04-11T09:12:54.177Z"
   },
   {
    "duration": 16138,
    "start_time": "2023-04-11T09:13:20.658Z"
   },
   {
    "duration": 8607,
    "start_time": "2023-04-11T09:13:36.850Z"
   },
   {
    "duration": 1116,
    "start_time": "2023-04-11T09:13:45.459Z"
   },
   {
    "duration": 72,
    "start_time": "2023-04-11T09:13:46.577Z"
   },
   {
    "duration": 626,
    "start_time": "2023-04-11T09:13:46.652Z"
   },
   {
    "duration": 3789,
    "start_time": "2023-04-11T09:13:47.280Z"
   },
   {
    "duration": 590,
    "start_time": "2023-04-11T09:13:51.072Z"
   },
   {
    "duration": 4,
    "start_time": "2023-04-11T09:13:51.664Z"
   },
   {
    "duration": 3421,
    "start_time": "2023-04-11T09:13:51.670Z"
   },
   {
    "duration": 75,
    "start_time": "2023-04-11T09:13:55.092Z"
   },
   {
    "duration": 488,
    "start_time": "2023-04-11T09:13:55.169Z"
   },
   {
    "duration": 20,
    "start_time": "2023-04-11T09:13:55.659Z"
   },
   {
    "duration": 103,
    "start_time": "2023-04-11T09:13:55.681Z"
   },
   {
    "duration": 2462,
    "start_time": "2023-04-11T09:13:55.786Z"
   },
   {
    "duration": 1931,
    "start_time": "2023-04-11T09:13:58.250Z"
   },
   {
    "duration": 1774,
    "start_time": "2023-04-11T09:14:00.183Z"
   },
   {
    "duration": 510,
    "start_time": "2023-04-11T09:14:01.959Z"
   },
   {
    "duration": 103,
    "start_time": "2023-04-11T09:14:02.471Z"
   },
   {
    "duration": 92,
    "start_time": "2023-04-11T09:14:02.577Z"
   },
   {
    "duration": 1192,
    "start_time": "2023-04-11T09:14:02.671Z"
   },
   {
    "duration": 549,
    "start_time": "2023-04-11T09:14:11.021Z"
   },
   {
    "duration": 2819,
    "start_time": "2023-04-11T09:17:55.547Z"
   },
   {
    "duration": 42,
    "start_time": "2023-04-11T09:19:38.934Z"
   },
   {
    "duration": 10,
    "start_time": "2023-04-11T09:20:36.771Z"
   },
   {
    "duration": 99,
    "start_time": "2023-04-11T09:22:34.673Z"
   },
   {
    "duration": 31242,
    "start_time": "2023-04-11T09:23:34.326Z"
   },
   {
    "duration": 7,
    "start_time": "2023-04-11T09:25:15.619Z"
   },
   {
    "duration": 5,
    "start_time": "2023-04-11T09:26:59.365Z"
   },
   {
    "duration": 7,
    "start_time": "2023-04-11T09:28:44.335Z"
   },
   {
    "duration": 12,
    "start_time": "2023-04-11T09:29:21.314Z"
   },
   {
    "duration": 18853,
    "start_time": "2023-04-11T09:29:23.914Z"
   },
   {
    "duration": 5,
    "start_time": "2023-04-11T09:30:02.001Z"
   },
   {
    "duration": 7,
    "start_time": "2023-04-11T09:31:05.315Z"
   },
   {
    "duration": 7,
    "start_time": "2023-04-11T09:31:06.361Z"
   },
   {
    "duration": 18352,
    "start_time": "2023-04-11T09:31:09.190Z"
   },
   {
    "duration": 5,
    "start_time": "2023-04-11T09:34:38.869Z"
   },
   {
    "duration": 4,
    "start_time": "2023-04-11T09:34:43.829Z"
   },
   {
    "duration": 725,
    "start_time": "2023-04-11T09:38:25.420Z"
   },
   {
    "duration": 492,
    "start_time": "2023-04-11T09:38:52.951Z"
   },
   {
    "duration": 649,
    "start_time": "2023-04-11T09:42:12.706Z"
   },
   {
    "duration": 7,
    "start_time": "2023-04-11T09:48:08.597Z"
   },
   {
    "duration": 6,
    "start_time": "2023-04-11T09:48:12.239Z"
   },
   {
    "duration": 16893,
    "start_time": "2023-04-11T09:48:16.079Z"
   },
   {
    "duration": 4,
    "start_time": "2023-04-11T09:48:40.037Z"
   },
   {
    "duration": 500,
    "start_time": "2023-04-11T09:48:44.264Z"
   },
   {
    "duration": 344,
    "start_time": "2023-04-11T09:48:53.865Z"
   },
   {
    "duration": 6,
    "start_time": "2023-04-11T09:50:11.404Z"
   },
   {
    "duration": 15413,
    "start_time": "2023-04-11T09:50:28.061Z"
   },
   {
    "duration": 4,
    "start_time": "2023-04-11T09:51:13.614Z"
   },
   {
    "duration": 9,
    "start_time": "2023-04-11T09:51:49.283Z"
   },
   {
    "duration": 843,
    "start_time": "2023-04-11T09:52:18.831Z"
   },
   {
    "duration": 690,
    "start_time": "2023-04-11T09:57:48.914Z"
   },
   {
    "duration": 4,
    "start_time": "2023-04-11T09:57:50.594Z"
   },
   {
    "duration": 1192,
    "start_time": "2023-04-11T09:58:49.300Z"
   },
   {
    "duration": 3,
    "start_time": "2023-04-11T09:59:01.601Z"
   },
   {
    "duration": 1015,
    "start_time": "2023-04-11T10:00:53.734Z"
   },
   {
    "duration": 839,
    "start_time": "2023-04-11T10:01:28.727Z"
   },
   {
    "duration": 9,
    "start_time": "2023-04-11T10:09:44.775Z"
   },
   {
    "duration": 14786,
    "start_time": "2023-04-11T10:09:45.981Z"
   },
   {
    "duration": 4,
    "start_time": "2023-04-11T10:10:45.729Z"
   },
   {
    "duration": 470,
    "start_time": "2023-04-11T10:10:55.053Z"
   },
   {
    "duration": 809,
    "start_time": "2023-04-11T10:10:59.447Z"
   },
   {
    "duration": 923,
    "start_time": "2023-04-11T10:11:00.258Z"
   },
   {
    "duration": 548,
    "start_time": "2023-04-11T10:11:01.936Z"
   },
   {
    "duration": 12,
    "start_time": "2023-04-11T10:19:38.372Z"
   },
   {
    "duration": 630,
    "start_time": "2023-04-11T10:21:31.962Z"
   },
   {
    "duration": 604,
    "start_time": "2023-04-11T10:21:33.140Z"
   },
   {
    "duration": 581,
    "start_time": "2023-04-11T10:21:34.432Z"
   },
   {
    "duration": 636,
    "start_time": "2023-04-11T10:21:45.181Z"
   },
   {
    "duration": 9,
    "start_time": "2023-04-11T10:21:48.474Z"
   },
   {
    "duration": 99,
    "start_time": "2023-04-12T11:24:10.590Z"
   },
   {
    "duration": 719,
    "start_time": "2023-04-12T11:27:38.212Z"
   },
   {
    "duration": 5,
    "start_time": "2023-04-12T11:27:45.027Z"
   },
   {
    "duration": 16321,
    "start_time": "2023-04-12T11:27:47.899Z"
   },
   {
    "duration": 86,
    "start_time": "2023-04-12T11:32:36.849Z"
   },
   {
    "duration": 10079,
    "start_time": "2023-04-12T11:32:50.019Z"
   },
   {
    "duration": 1224,
    "start_time": "2023-04-12T11:33:01.206Z"
   },
   {
    "duration": 18,
    "start_time": "2023-04-12T11:33:06.200Z"
   },
   {
    "duration": 777,
    "start_time": "2023-04-12T11:33:07.812Z"
   },
   {
    "duration": 4522,
    "start_time": "2023-04-12T11:33:13.767Z"
   },
   {
    "duration": 442,
    "start_time": "2023-04-12T11:33:22.967Z"
   },
   {
    "duration": 3,
    "start_time": "2023-04-12T11:33:39.048Z"
   },
   {
    "duration": 4747,
    "start_time": "2023-04-12T11:33:47.455Z"
   },
   {
    "duration": 2635,
    "start_time": "2023-04-12T11:36:08.465Z"
   },
   {
    "duration": 20,
    "start_time": "2023-04-12T11:36:13.993Z"
   },
   {
    "duration": 367,
    "start_time": "2023-04-12T11:36:15.345Z"
   },
   {
    "duration": 19,
    "start_time": "2023-04-12T11:36:18.406Z"
   },
   {
    "duration": 21,
    "start_time": "2023-04-12T11:36:25.477Z"
   },
   {
    "duration": 2919,
    "start_time": "2023-04-12T11:36:26.574Z"
   },
   {
    "duration": 2241,
    "start_time": "2023-04-12T11:36:40.552Z"
   },
   {
    "duration": 1455,
    "start_time": "2023-04-12T11:40:02.234Z"
   },
   {
    "duration": 9,
    "start_time": "2023-04-12T11:45:15.195Z"
   },
   {
    "duration": 125,
    "start_time": "2023-04-12T12:14:57.599Z"
   },
   {
    "duration": 4663,
    "start_time": "2023-04-12T12:15:18.363Z"
   },
   {
    "duration": 41,
    "start_time": "2023-04-12T12:20:11.771Z"
   },
   {
    "duration": 2050,
    "start_time": "2023-04-12T12:20:12.680Z"
   },
   {
    "duration": 32,
    "start_time": "2023-04-12T12:33:20.464Z"
   },
   {
    "duration": 1852,
    "start_time": "2023-04-12T12:34:46.964Z"
   },
   {
    "duration": 196,
    "start_time": "2023-04-12T12:35:32.210Z"
   },
   {
    "duration": 883,
    "start_time": "2023-04-12T12:35:52.214Z"
   },
   {
    "duration": 171,
    "start_time": "2023-04-12T12:38:52.834Z"
   },
   {
    "duration": 569,
    "start_time": "2023-04-12T12:39:02.123Z"
   },
   {
    "duration": 44,
    "start_time": "2023-04-12T12:48:29.056Z"
   },
   {
    "duration": 109,
    "start_time": "2023-04-12T12:49:31.167Z"
   },
   {
    "duration": 34,
    "start_time": "2023-04-12T13:00:08.249Z"
   },
   {
    "duration": 133,
    "start_time": "2023-04-12T13:00:13.584Z"
   },
   {
    "duration": 708,
    "start_time": "2023-04-12T13:00:32.832Z"
   },
   {
    "duration": 16196,
    "start_time": "2023-04-12T13:00:33.542Z"
   },
   {
    "duration": 9568,
    "start_time": "2023-04-12T13:00:49.740Z"
   },
   {
    "duration": 1420,
    "start_time": "2023-04-12T13:00:59.310Z"
   },
   {
    "duration": 96,
    "start_time": "2023-04-12T13:01:00.795Z"
   },
   {
    "duration": 912,
    "start_time": "2023-04-12T13:01:00.893Z"
   },
   {
    "duration": 4207,
    "start_time": "2023-04-12T13:01:01.808Z"
   },
   {
    "duration": 483,
    "start_time": "2023-04-12T13:01:06.017Z"
   },
   {
    "duration": 4,
    "start_time": "2023-04-12T13:01:06.502Z"
   },
   {
    "duration": 4305,
    "start_time": "2023-04-12T13:01:06.507Z"
   },
   {
    "duration": 2284,
    "start_time": "2023-04-12T13:01:10.817Z"
   },
   {
    "duration": 85,
    "start_time": "2023-04-12T13:01:13.104Z"
   },
   {
    "duration": 422,
    "start_time": "2023-04-12T13:01:13.192Z"
   },
   {
    "duration": 89,
    "start_time": "2023-04-12T13:01:13.618Z"
   },
   {
    "duration": 83,
    "start_time": "2023-04-12T13:01:13.708Z"
   },
   {
    "duration": 2419,
    "start_time": "2023-04-12T13:01:13.793Z"
   },
   {
    "duration": 1980,
    "start_time": "2023-04-12T13:01:16.214Z"
   },
   {
    "duration": 1515,
    "start_time": "2023-04-12T13:01:18.197Z"
   },
   {
    "duration": 283,
    "start_time": "2023-04-12T13:01:19.714Z"
   },
   {
    "duration": 4639,
    "start_time": "2023-04-12T13:01:37.570Z"
   },
   {
    "duration": 2155,
    "start_time": "2023-04-12T13:04:11.155Z"
   },
   {
    "duration": 313,
    "start_time": "2023-04-12T13:04:41.597Z"
   },
   {
    "duration": 220,
    "start_time": "2023-04-12T13:05:13.299Z"
   },
   {
    "duration": 1784,
    "start_time": "2023-04-12T13:05:37.123Z"
   },
   {
    "duration": 132,
    "start_time": "2023-04-12T13:34:58.736Z"
   },
   {
    "duration": 37586,
    "start_time": "2023-04-12T13:35:21.720Z"
   },
   {
    "duration": 24004,
    "start_time": "2023-04-12T13:40:27.727Z"
   },
   {
    "duration": 16,
    "start_time": "2023-04-12T13:44:25.399Z"
   },
   {
    "duration": 11,
    "start_time": "2023-04-12T13:45:18.127Z"
   },
   {
    "duration": 7,
    "start_time": "2023-04-12T13:46:27.950Z"
   },
   {
    "duration": 1161,
    "start_time": "2023-04-12T13:46:28.564Z"
   },
   {
    "duration": 17,
    "start_time": "2023-04-12T13:47:33.169Z"
   },
   {
    "duration": 10,
    "start_time": "2023-04-12T13:47:33.702Z"
   },
   {
    "duration": 14,
    "start_time": "2023-04-12T13:49:52.447Z"
   },
   {
    "duration": 18640,
    "start_time": "2023-04-12T13:49:53.164Z"
   },
   {
    "duration": 13,
    "start_time": "2023-04-12T14:05:26.566Z"
   },
   {
    "duration": 8,
    "start_time": "2023-04-12T14:05:28.442Z"
   },
   {
    "duration": 9,
    "start_time": "2023-04-12T14:07:38.631Z"
   },
   {
    "duration": 13,
    "start_time": "2023-04-12T14:09:09.177Z"
   },
   {
    "duration": 9,
    "start_time": "2023-04-12T14:09:38.334Z"
   },
   {
    "duration": 13,
    "start_time": "2023-04-12T14:10:15.971Z"
   },
   {
    "duration": 7,
    "start_time": "2023-04-12T14:10:17.630Z"
   },
   {
    "duration": 13,
    "start_time": "2023-04-12T14:10:58.698Z"
   },
   {
    "duration": 16082,
    "start_time": "2023-04-12T14:10:59.999Z"
   },
   {
    "duration": 14175,
    "start_time": "2023-04-12T14:16:43.562Z"
   },
   {
    "duration": 124,
    "start_time": "2023-04-12T14:17:49.432Z"
   },
   {
    "duration": 111,
    "start_time": "2023-04-12T14:18:32.902Z"
   },
   {
    "duration": 18,
    "start_time": "2023-04-12T14:19:01.870Z"
   },
   {
    "duration": 357,
    "start_time": "2023-04-12T14:19:44.783Z"
   },
   {
    "duration": 15062,
    "start_time": "2023-04-12T14:22:49.793Z"
   },
   {
    "duration": 8,
    "start_time": "2023-04-12T14:24:57.339Z"
   },
   {
    "duration": 336,
    "start_time": "2023-04-12T14:25:10.365Z"
   },
   {
    "duration": 17188,
    "start_time": "2023-04-12T14:25:57.462Z"
   },
   {
    "duration": 254,
    "start_time": "2023-04-12T14:26:23.301Z"
   },
   {
    "duration": 138,
    "start_time": "2023-04-12T14:27:01.770Z"
   },
   {
    "duration": 756,
    "start_time": "2023-04-12T14:27:32.460Z"
   },
   {
    "duration": 582,
    "start_time": "2023-04-12T14:27:38.262Z"
   },
   {
    "duration": 429,
    "start_time": "2023-04-12T14:27:45.462Z"
   },
   {
    "duration": 11,
    "start_time": "2023-04-12T14:27:49.988Z"
   },
   {
    "duration": 858,
    "start_time": "2023-04-13T08:29:35.020Z"
   },
   {
    "duration": 17104,
    "start_time": "2023-04-13T08:29:35.881Z"
   },
   {
    "duration": 8167,
    "start_time": "2023-04-13T08:29:52.987Z"
   },
   {
    "duration": 1097,
    "start_time": "2023-04-13T08:30:01.155Z"
   },
   {
    "duration": 12,
    "start_time": "2023-04-13T08:30:02.255Z"
   },
   {
    "duration": 529,
    "start_time": "2023-04-13T08:30:02.335Z"
   },
   {
    "duration": 3218,
    "start_time": "2023-04-13T08:30:02.865Z"
   },
   {
    "duration": 480,
    "start_time": "2023-04-13T08:30:06.084Z"
   },
   {
    "duration": 69,
    "start_time": "2023-04-13T08:30:06.566Z"
   },
   {
    "duration": 3721,
    "start_time": "2023-04-13T08:30:06.637Z"
   },
   {
    "duration": 1976,
    "start_time": "2023-04-13T08:30:10.359Z"
   },
   {
    "duration": 15,
    "start_time": "2023-04-13T08:30:12.337Z"
   },
   {
    "duration": 382,
    "start_time": "2023-04-13T08:30:12.353Z"
   },
   {
    "duration": 17,
    "start_time": "2023-04-13T08:30:12.738Z"
   },
   {
    "duration": 9,
    "start_time": "2023-04-13T08:30:12.757Z"
   },
   {
    "duration": 1997,
    "start_time": "2023-04-13T08:30:12.767Z"
   },
   {
    "duration": 1531,
    "start_time": "2023-04-13T08:30:14.766Z"
   },
   {
    "duration": 1465,
    "start_time": "2023-04-13T08:30:16.299Z"
   },
   {
    "duration": 272,
    "start_time": "2023-04-13T08:30:17.766Z"
   },
   {
    "duration": 3928,
    "start_time": "2023-04-13T08:30:18.039Z"
   },
   {
    "duration": 228,
    "start_time": "2023-04-13T08:30:22.034Z"
   },
   {
    "duration": 210,
    "start_time": "2023-04-13T08:30:22.264Z"
   },
   {
    "duration": 1214,
    "start_time": "2023-04-13T08:30:22.535Z"
   },
   {
    "duration": 4,
    "start_time": "2023-04-13T08:49:05.726Z"
   },
   {
    "duration": 141,
    "start_time": "2023-04-13T08:49:32.261Z"
   },
   {
    "duration": 4,
    "start_time": "2023-04-13T08:50:01.716Z"
   },
   {
    "duration": 4,
    "start_time": "2023-04-13T08:52:02.438Z"
   },
   {
    "duration": 83,
    "start_time": "2023-04-13T11:46:12.615Z"
   },
   {
    "duration": 772,
    "start_time": "2023-04-13T11:46:21.208Z"
   },
   {
    "duration": 16741,
    "start_time": "2023-04-13T11:46:21.982Z"
   },
   {
    "duration": 9593,
    "start_time": "2023-04-13T11:46:38.725Z"
   },
   {
    "duration": 1216,
    "start_time": "2023-04-13T11:46:48.321Z"
   },
   {
    "duration": 77,
    "start_time": "2023-04-13T11:46:49.542Z"
   },
   {
    "duration": 719,
    "start_time": "2023-04-13T11:46:49.621Z"
   },
   {
    "duration": 4034,
    "start_time": "2023-04-13T11:46:50.342Z"
   },
   {
    "duration": 540,
    "start_time": "2023-04-13T11:46:54.378Z"
   },
   {
    "duration": 4,
    "start_time": "2023-04-13T11:46:54.921Z"
   },
   {
    "duration": 4725,
    "start_time": "2023-04-13T11:46:54.927Z"
   },
   {
    "duration": 2286,
    "start_time": "2023-04-13T11:46:59.654Z"
   },
   {
    "duration": 80,
    "start_time": "2023-04-13T11:47:01.942Z"
   },
   {
    "duration": 402,
    "start_time": "2023-04-13T11:47:02.024Z"
   },
   {
    "duration": 22,
    "start_time": "2023-04-13T11:47:02.429Z"
   },
   {
    "duration": 19,
    "start_time": "2023-04-13T11:47:02.518Z"
   },
   {
    "duration": 2502,
    "start_time": "2023-04-13T11:47:02.539Z"
   },
   {
    "duration": 1887,
    "start_time": "2023-04-13T11:47:05.043Z"
   },
   {
    "duration": 1489,
    "start_time": "2023-04-13T11:47:06.932Z"
   },
   {
    "duration": 134,
    "start_time": "2023-04-13T11:47:08.424Z"
   },
   {
    "duration": 4,
    "start_time": "2023-04-13T11:47:08.559Z"
   },
   {
    "duration": 4855,
    "start_time": "2023-04-13T11:47:08.565Z"
   },
   {
    "duration": 400,
    "start_time": "2023-04-13T11:47:13.421Z"
   },
   {
    "duration": 312,
    "start_time": "2023-04-13T11:47:13.822Z"
   },
   {
    "duration": 49,
    "start_time": "2023-04-13T11:47:16.601Z"
   },
   {
    "duration": 877,
    "start_time": "2023-04-13T11:48:02.170Z"
   },
   {
    "duration": 8,
    "start_time": "2023-04-13T11:48:10.033Z"
   },
   {
    "duration": 29,
    "start_time": "2023-04-13T11:48:27.709Z"
   },
   {
    "duration": 1560,
    "start_time": "2023-04-13T11:48:41.101Z"
   },
   {
    "duration": 835,
    "start_time": "2023-04-13T11:50:55.917Z"
   },
   {
    "duration": 632,
    "start_time": "2023-04-13T11:51:29.768Z"
   },
   {
    "duration": 699,
    "start_time": "2023-04-13T12:24:03.865Z"
   },
   {
    "duration": 18061,
    "start_time": "2023-04-13T12:24:04.567Z"
   },
   {
    "duration": 10621,
    "start_time": "2023-04-13T12:24:22.630Z"
   },
   {
    "duration": 1371,
    "start_time": "2023-04-13T12:24:33.253Z"
   },
   {
    "duration": 95,
    "start_time": "2023-04-13T12:24:34.627Z"
   },
   {
    "duration": 809,
    "start_time": "2023-04-13T12:24:34.725Z"
   },
   {
    "duration": 4798,
    "start_time": "2023-04-13T12:24:35.536Z"
   },
   {
    "duration": 584,
    "start_time": "2023-04-13T12:24:40.336Z"
   },
   {
    "duration": 6,
    "start_time": "2023-04-13T12:24:40.922Z"
   },
   {
    "duration": 4906,
    "start_time": "2023-04-13T12:24:40.931Z"
   },
   {
    "duration": 2649,
    "start_time": "2023-04-13T12:24:45.839Z"
   },
   {
    "duration": 19,
    "start_time": "2023-04-13T12:24:48.518Z"
   },
   {
    "duration": 412,
    "start_time": "2023-04-13T12:24:48.539Z"
   },
   {
    "duration": 74,
    "start_time": "2023-04-13T12:24:48.954Z"
   },
   {
    "duration": 15,
    "start_time": "2023-04-13T12:24:49.030Z"
   },
   {
    "duration": 2805,
    "start_time": "2023-04-13T12:24:49.047Z"
   },
   {
    "duration": 2406,
    "start_time": "2023-04-13T12:24:51.854Z"
   },
   {
    "duration": 9,
    "start_time": "2023-04-13T12:24:59.716Z"
   },
   {
    "duration": 1659,
    "start_time": "2023-04-13T12:25:04.279Z"
   },
   {
    "duration": 129,
    "start_time": "2023-04-13T12:25:25.433Z"
   },
   {
    "duration": 51,
    "start_time": "2023-04-13T12:25:44.595Z"
   },
   {
    "duration": 4,
    "start_time": "2023-04-13T12:25:49.988Z"
   },
   {
    "duration": 4188,
    "start_time": "2023-04-13T12:25:57.750Z"
   },
   {
    "duration": 279,
    "start_time": "2023-04-13T12:26:05.256Z"
   },
   {
    "duration": 182,
    "start_time": "2023-04-13T12:26:06.269Z"
   },
   {
    "duration": 1610,
    "start_time": "2023-04-13T12:26:09.834Z"
   },
   {
    "duration": 56,
    "start_time": "2023-04-13T13:04:35.758Z"
   },
   {
    "duration": 10,
    "start_time": "2023-04-13T13:07:16.230Z"
   },
   {
    "duration": 726,
    "start_time": "2023-04-13T13:07:36.634Z"
   },
   {
    "duration": 55,
    "start_time": "2023-04-13T13:07:42.530Z"
   },
   {
    "duration": 5,
    "start_time": "2023-04-13T13:07:53.421Z"
   },
   {
    "duration": 18393,
    "start_time": "2023-04-13T13:07:53.429Z"
   },
   {
    "duration": 8930,
    "start_time": "2023-04-13T13:08:11.824Z"
   },
   {
    "duration": 1170,
    "start_time": "2023-04-13T13:08:20.757Z"
   },
   {
    "duration": 17,
    "start_time": "2023-04-13T13:08:21.930Z"
   },
   {
    "duration": 682,
    "start_time": "2023-04-13T13:08:21.949Z"
   },
   {
    "duration": 3685,
    "start_time": "2023-04-13T13:08:22.633Z"
   },
   {
    "duration": 513,
    "start_time": "2023-04-13T13:08:26.320Z"
   },
   {
    "duration": 4,
    "start_time": "2023-04-13T13:08:26.834Z"
   },
   {
    "duration": 4091,
    "start_time": "2023-04-13T13:08:26.840Z"
   },
   {
    "duration": 1987,
    "start_time": "2023-04-13T13:08:30.933Z"
   },
   {
    "duration": 14,
    "start_time": "2023-04-13T13:08:32.923Z"
   },
   {
    "duration": 482,
    "start_time": "2023-04-13T13:08:32.940Z"
   },
   {
    "duration": 21,
    "start_time": "2023-04-13T13:08:33.425Z"
   },
   {
    "duration": 11,
    "start_time": "2023-04-13T13:08:33.517Z"
   },
   {
    "duration": 2111,
    "start_time": "2023-04-13T13:08:33.530Z"
   },
   {
    "duration": 2097,
    "start_time": "2023-04-13T13:08:35.643Z"
   },
   {
    "duration": 6,
    "start_time": "2023-04-13T13:08:37.742Z"
   },
   {
    "duration": 1369,
    "start_time": "2023-04-13T13:08:37.750Z"
   },
   {
    "duration": 59,
    "start_time": "2023-04-13T13:09:03.168Z"
   },
   {
    "duration": 39,
    "start_time": "2023-04-13T13:09:08.922Z"
   },
   {
    "duration": 61,
    "start_time": "2023-04-13T13:14:49.178Z"
   },
   {
    "duration": 15,
    "start_time": "2023-04-13T13:14:50.332Z"
   },
   {
    "duration": 10,
    "start_time": "2023-04-13T13:18:43.458Z"
   },
   {
    "duration": 57048,
    "start_time": "2023-04-13T13:19:58.677Z"
   },
   {
    "duration": 443,
    "start_time": "2023-04-13T13:21:57.443Z"
   },
   {
    "duration": 1672,
    "start_time": "2023-04-13T13:23:39.364Z"
   },
   {
    "duration": 369,
    "start_time": "2023-04-13T13:24:23.194Z"
   },
   {
    "duration": 717,
    "start_time": "2023-04-13T13:24:39.451Z"
   },
   {
    "duration": 608,
    "start_time": "2023-04-13T13:24:40.658Z"
   },
   {
    "duration": 597,
    "start_time": "2023-04-13T13:24:42.387Z"
   },
   {
    "duration": 12,
    "start_time": "2023-04-13T13:24:45.190Z"
   },
   {
    "duration": 719,
    "start_time": "2023-04-13T13:26:22.735Z"
   },
   {
    "duration": 11,
    "start_time": "2023-04-13T13:27:32.827Z"
   },
   {
    "duration": 12,
    "start_time": "2023-04-13T13:27:39.103Z"
   },
   {
    "duration": 22532,
    "start_time": "2023-04-13T13:27:43.653Z"
   },
   {
    "duration": 258,
    "start_time": "2023-04-13T13:28:17.815Z"
   },
   {
    "duration": 454,
    "start_time": "2023-04-13T13:28:22.071Z"
   },
   {
    "duration": 537,
    "start_time": "2023-04-13T13:28:22.528Z"
   },
   {
    "duration": 452,
    "start_time": "2023-04-13T13:28:23.067Z"
   },
   {
    "duration": 11,
    "start_time": "2023-04-13T13:28:25.161Z"
   },
   {
    "duration": 83,
    "start_time": "2023-04-14T13:08:11.851Z"
   },
   {
    "duration": 760,
    "start_time": "2023-04-14T13:39:47.996Z"
   },
   {
    "duration": 7,
    "start_time": "2023-04-14T13:40:48.740Z"
   },
   {
    "duration": 20831,
    "start_time": "2023-04-14T13:41:00.003Z"
   },
   {
    "duration": 10159,
    "start_time": "2023-04-14T13:42:21.874Z"
   },
   {
    "duration": 1169,
    "start_time": "2023-04-14T13:45:04.145Z"
   },
   {
    "duration": 471,
    "start_time": "2023-04-14T13:45:33.842Z"
   },
   {
    "duration": 15,
    "start_time": "2023-04-14T13:46:20.938Z"
   },
   {
    "duration": 535,
    "start_time": "2023-04-14T13:47:10.501Z"
   },
   {
    "duration": 320,
    "start_time": "2023-04-14T13:47:20.394Z"
   },
   {
    "duration": 3657,
    "start_time": "2023-04-14T13:48:34.059Z"
   },
   {
    "duration": 3,
    "start_time": "2023-04-14T13:50:04.964Z"
   },
   {
    "duration": 4392,
    "start_time": "2023-04-14T13:58:31.634Z"
   },
   {
    "duration": 3268,
    "start_time": "2023-04-14T13:59:33.277Z"
   },
   {
    "duration": 1660,
    "start_time": "2023-04-14T14:02:27.209Z"
   },
   {
    "duration": 18,
    "start_time": "2023-04-14T14:05:04.954Z"
   },
   {
    "duration": 385,
    "start_time": "2023-04-14T14:05:06.251Z"
   },
   {
    "duration": 18,
    "start_time": "2023-04-14T14:06:08.161Z"
   },
   {
    "duration": 14,
    "start_time": "2023-04-14T14:07:04.007Z"
   },
   {
    "duration": 2574,
    "start_time": "2023-04-14T14:07:32.650Z"
   },
   {
    "duration": 10,
    "start_time": "2023-04-14T14:13:23.422Z"
   },
   {
    "duration": 1521,
    "start_time": "2023-04-14T14:14:02.224Z"
   },
   {
    "duration": 802,
    "start_time": "2023-04-14T14:16:17.815Z"
   },
   {
    "duration": 797,
    "start_time": "2023-04-14T14:16:57.564Z"
   },
   {
    "duration": 1030,
    "start_time": "2023-04-14T14:19:44.485Z"
   },
   {
    "duration": 1152,
    "start_time": "2023-04-14T14:19:57.113Z"
   },
   {
    "duration": 944,
    "start_time": "2023-04-14T14:20:05.837Z"
   },
   {
    "duration": 550,
    "start_time": "2023-04-14T14:21:11.061Z"
   },
   {
    "duration": 464,
    "start_time": "2023-04-14T14:21:20.866Z"
   },
   {
    "duration": 440,
    "start_time": "2023-04-14T14:21:26.481Z"
   },
   {
    "duration": 416,
    "start_time": "2023-04-14T14:21:35.344Z"
   },
   {
    "duration": 1023,
    "start_time": "2023-04-14T14:21:39.790Z"
   },
   {
    "duration": 886,
    "start_time": "2023-04-14T14:22:12.477Z"
   },
   {
    "duration": 412,
    "start_time": "2023-04-14T14:22:24.671Z"
   },
   {
    "duration": 461,
    "start_time": "2023-04-14T14:22:34.477Z"
   },
   {
    "duration": 391,
    "start_time": "2023-04-14T14:25:57.577Z"
   },
   {
    "duration": 5,
    "start_time": "2023-04-14T14:26:01.506Z"
   },
   {
    "duration": 5,
    "start_time": "2023-04-14T14:26:05.737Z"
   },
   {
    "duration": 903,
    "start_time": "2023-04-14T14:26:21.423Z"
   },
   {
    "duration": 902,
    "start_time": "2023-04-14T14:26:29.824Z"
   },
   {
    "duration": 497,
    "start_time": "2023-04-14T14:27:30.507Z"
   },
   {
    "duration": 22,
    "start_time": "2023-04-14T14:27:36.105Z"
   },
   {
    "duration": 21,
    "start_time": "2023-04-14T14:31:34.655Z"
   },
   {
    "duration": 67258,
    "start_time": "2023-04-14T14:32:21.465Z"
   },
   {
    "duration": 675,
    "start_time": "2023-04-14T14:33:36.565Z"
   },
   {
    "duration": 24981,
    "start_time": "2023-04-14T14:34:33.439Z"
   },
   {
    "duration": 383,
    "start_time": "2023-04-14T14:35:03.870Z"
   },
   {
    "duration": 645,
    "start_time": "2023-04-14T14:35:30.906Z"
   },
   {
    "duration": 579,
    "start_time": "2023-04-14T14:35:31.793Z"
   },
   {
    "duration": 465,
    "start_time": "2023-04-14T14:35:32.713Z"
   },
   {
    "duration": 606,
    "start_time": "2023-04-14T14:40:24.873Z"
   },
   {
    "duration": 12,
    "start_time": "2023-04-14T14:40:36.961Z"
   },
   {
    "duration": 203,
    "start_time": "2023-04-14T14:40:38.886Z"
   },
   {
    "duration": 139,
    "start_time": "2023-04-14T14:42:13.820Z"
   },
   {
    "duration": 149,
    "start_time": "2023-04-14T14:43:37.080Z"
   },
   {
    "duration": 190,
    "start_time": "2023-04-14T14:47:06.373Z"
   },
   {
    "duration": 119,
    "start_time": "2023-04-14T14:49:32.771Z"
   },
   {
    "duration": 114,
    "start_time": "2023-04-14T14:52:25.182Z"
   }
  ],
  "colab": {
   "name": "PySparkSprint.ipynb",
   "provenance": []
  },
  "kernelspec": {
   "display_name": "Python 3 (ipykernel)",
   "language": "python",
   "name": "python3"
  },
  "language_info": {
   "codemirror_mode": {
    "name": "ipython",
    "version": 3
   },
   "file_extension": ".py",
   "mimetype": "text/x-python",
   "name": "python",
   "nbconvert_exporter": "python",
   "pygments_lexer": "ipython3",
   "version": "3.9.5"
  },
  "toc": {
   "base_numbering": 1,
   "nav_menu": {},
   "number_sections": true,
   "sideBar": true,
   "skip_h1_title": true,
   "title_cell": "Содержание",
   "title_sidebar": "Contents",
   "toc_cell": true,
   "toc_position": {
    "height": "calc(100% - 180px)",
    "left": "10px",
    "top": "150px",
    "width": "165px"
   },
   "toc_section_display": true,
   "toc_window_display": false
  }
 },
 "nbformat": 4,
 "nbformat_minor": 5
}
